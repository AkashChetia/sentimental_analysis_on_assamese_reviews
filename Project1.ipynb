{
 "cells": [
  {
   "cell_type": "code",
   "execution_count": 1,
   "id": "9c48b011",
   "metadata": {},
   "outputs": [],
   "source": [
    "import pandas as pd\n",
    "import numpy as np\n",
    "import matplotlib.pyplot as plt\n",
    "import seaborn as sns\n",
    "import nltk"
   ]
  },
  {
   "cell_type": "markdown",
   "id": "ad04b215",
   "metadata": {},
   "source": [
    "## Loading the data"
   ]
  },
  {
   "cell_type": "code",
   "execution_count": 2,
   "id": "24fbdf95",
   "metadata": {},
   "outputs": [
    {
     "data": {
      "text/html": [
       "<div>\n",
       "<style scoped>\n",
       "    .dataframe tbody tr th:only-of-type {\n",
       "        vertical-align: middle;\n",
       "    }\n",
       "\n",
       "    .dataframe tbody tr th {\n",
       "        vertical-align: top;\n",
       "    }\n",
       "\n",
       "    .dataframe thead th {\n",
       "        text-align: right;\n",
       "    }\n",
       "</style>\n",
       "<table border=\"1\" class=\"dataframe\">\n",
       "  <thead>\n",
       "    <tr style=\"text-align: right;\">\n",
       "      <th></th>\n",
       "      <th>Sentence</th>\n",
       "      <th>Sentiment</th>\n",
       "    </tr>\n",
       "  </thead>\n",
       "  <tbody>\n",
       "    <tr>\n",
       "      <th>968</th>\n",
       "      <td>সঁচাকৈয়ে এডাল ধুনীয়া শব্দৰ মালা</td>\n",
       "      <td>1</td>\n",
       "    </tr>\n",
       "    <tr>\n",
       "      <th>874</th>\n",
       "      <td>আপুনি এটা ভয়ংকৰ কাম কৰিছে</td>\n",
       "      <td>0</td>\n",
       "    </tr>\n",
       "    <tr>\n",
       "      <th>797</th>\n",
       "      <td>এনেকুৱা বিহুগীত পাৰিলে আৰু কৰিবচোন</td>\n",
       "      <td>1</td>\n",
       "    </tr>\n",
       "    <tr>\n",
       "      <th>563</th>\n",
       "      <td>সেই ছোৱালীজনী চিকিৎসক নহয় তাইক এজন চিকিৎসকৰ প...</td>\n",
       "      <td>0</td>\n",
       "    </tr>\n",
       "    <tr>\n",
       "      <th>473</th>\n",
       "      <td>মোৰ কানৰ পৰা তেজ ওলাই আহিলে</td>\n",
       "      <td>0</td>\n",
       "    </tr>\n",
       "    <tr>\n",
       "      <th>568</th>\n",
       "      <td>কাতি বিহুৰ ক্ষণত লগাই অকলে নাচি আছো ৰুমতে</td>\n",
       "      <td>1</td>\n",
       "    </tr>\n",
       "    <tr>\n",
       "      <th>658</th>\n",
       "      <td>গান চুৰ কৰা এৰি এটা টো গান নিজে বনা</td>\n",
       "      <td>0</td>\n",
       "    </tr>\n",
       "    <tr>\n",
       "      <th>922</th>\n",
       "      <td>কিমানবাৰ শুনিলো যদিও হেঁপাহ পেলোৱা নাই</td>\n",
       "      <td>1</td>\n",
       "    </tr>\n",
       "    <tr>\n",
       "      <th>397</th>\n",
       "      <td>শুনিলেই নাছো নাছো লাগি যায়।</td>\n",
       "      <td>1</td>\n",
       "    </tr>\n",
       "    <tr>\n",
       "      <th>788</th>\n",
       "      <td>কি দিন যে আহিল নহয়</td>\n",
       "      <td>0</td>\n",
       "    </tr>\n",
       "  </tbody>\n",
       "</table>\n",
       "</div>"
      ],
      "text/plain": [
       "                                              Sentence  Sentiment\n",
       "968                    সঁচাকৈয়ে এডাল ধুনীয়া শব্দৰ মালা          1\n",
       "874                         আপুনি এটা ভয়ংকৰ কাম কৰিছে          0\n",
       "797                 এনেকুৱা বিহুগীত পাৰিলে আৰু কৰিবচোন          1\n",
       "563  সেই ছোৱালীজনী চিকিৎসক নহয় তাইক এজন চিকিৎসকৰ প...          0\n",
       "473                        মোৰ কানৰ পৰা তেজ ওলাই আহিলে          0\n",
       "568          কাতি বিহুৰ ক্ষণত লগাই অকলে নাচি আছো ৰুমতে          1\n",
       "658                গান চুৰ কৰা এৰি এটা টো গান নিজে বনা          0\n",
       "922             কিমানবাৰ শুনিলো যদিও হেঁপাহ পেলোৱা নাই          1\n",
       "397                        শুনিলেই নাছো নাছো লাগি যায়।          1\n",
       "788                                 কি দিন যে আহিল নহয়          0"
      ]
     },
     "execution_count": 2,
     "metadata": {},
     "output_type": "execute_result"
    }
   ],
   "source": [
    "df=pd.read_csv('reviews.csv',encoding='utf-8')\n",
    "df.sample(10)"
   ]
  },
  {
   "cell_type": "code",
   "execution_count": 3,
   "id": "3b125af9",
   "metadata": {},
   "outputs": [
    {
     "data": {
      "text/plain": [
       "(1028, 2)"
      ]
     },
     "execution_count": 3,
     "metadata": {},
     "output_type": "execute_result"
    }
   ],
   "source": [
    "df.shape"
   ]
  },
  {
   "cell_type": "code",
   "execution_count": 4,
   "id": "e5067272",
   "metadata": {},
   "outputs": [
    {
     "name": "stdout",
     "output_type": "stream",
     "text": [
      "<class 'pandas.core.frame.DataFrame'>\n",
      "RangeIndex: 1028 entries, 0 to 1027\n",
      "Data columns (total 2 columns):\n",
      " #   Column     Non-Null Count  Dtype \n",
      "---  ------     --------------  ----- \n",
      " 0   Sentence   1028 non-null   object\n",
      " 1   Sentiment  1028 non-null   int64 \n",
      "dtypes: int64(1), object(1)\n",
      "memory usage: 16.2+ KB\n"
     ]
    }
   ],
   "source": [
    "df.info()"
   ]
  },
  {
   "cell_type": "code",
   "execution_count": 5,
   "id": "38d59cc8",
   "metadata": {},
   "outputs": [
    {
     "data": {
      "text/plain": [
       "Sentence     0\n",
       "Sentiment    0\n",
       "dtype: int64"
      ]
     },
     "execution_count": 5,
     "metadata": {},
     "output_type": "execute_result"
    }
   ],
   "source": [
    "#checking missing values\n",
    "df.isnull().sum()"
   ]
  },
  {
   "cell_type": "markdown",
   "id": "b95a616a",
   "metadata": {},
   "source": [
    "## Removing duplicate values"
   ]
  },
  {
   "cell_type": "code",
   "execution_count": 6,
   "id": "15dfc096",
   "metadata": {},
   "outputs": [
    {
     "data": {
      "text/plain": [
       "11"
      ]
     },
     "execution_count": 6,
     "metadata": {},
     "output_type": "execute_result"
    }
   ],
   "source": [
    "#check for duplicate values\n",
    "df.duplicated().sum()"
   ]
  },
  {
   "cell_type": "code",
   "execution_count": 7,
   "id": "7ec37496",
   "metadata": {},
   "outputs": [
    {
     "data": {
      "text/plain": [
       "(1016, 2)"
      ]
     },
     "execution_count": 7,
     "metadata": {},
     "output_type": "execute_result"
    }
   ],
   "source": [
    "#removing duplicates\n",
    "df.drop_duplicates(subset =\"Sentence\",\n",
    "                     keep ='first', inplace = True)\n",
    "df.shape"
   ]
  },
  {
   "cell_type": "markdown",
   "id": "0aa5bf31",
   "metadata": {},
   "source": [
    "# EDA"
   ]
  },
  {
   "cell_type": "markdown",
   "id": "ebdbe82b",
   "metadata": {},
   "source": [
    "## Distribution of positive and negative sentences"
   ]
  },
  {
   "cell_type": "code",
   "execution_count": 8,
   "id": "be493aa2",
   "metadata": {},
   "outputs": [
    {
     "data": {
      "text/plain": [
       "0    519\n",
       "1    497\n",
       "Name: Sentiment, dtype: int64"
      ]
     },
     "execution_count": 8,
     "metadata": {},
     "output_type": "execute_result"
    }
   ],
   "source": [
    "df['Sentiment'].value_counts()"
   ]
  },
  {
   "cell_type": "code",
   "execution_count": 9,
   "id": "49621ffa",
   "metadata": {},
   "outputs": [
    {
     "data": {
      "image/png": "[encoded data removed]",
      "text/plain": [
       "<Figure size 432x288 with 1 Axes>"
      ]
     },
     "metadata": {},
     "output_type": "display_data"
    }
   ],
   "source": [
    "plt.pie(df['Sentiment'].value_counts(),labels=['Negative','Positive'],colors=['red','lime'],autopct=\"%0.2f\")\n",
    "plt.show()"
   ]
  },
  {
   "cell_type": "markdown",
   "id": "60fd6b84",
   "metadata": {},
   "source": [
    "## Number of characters in each sentence"
   ]
  },
  {
   "cell_type": "code",
   "execution_count": 10,
   "id": "f160ccef",
   "metadata": {},
   "outputs": [],
   "source": [
    "df['num_char']=df['Sentence'].apply(len)"
   ]
  },
  {
   "cell_type": "code",
   "execution_count": 11,
   "id": "1afb644c",
   "metadata": {},
   "outputs": [
    {
     "data": {
      "text/html": [
       "<div>\n",
       "<style scoped>\n",
       "    .dataframe tbody tr th:only-of-type {\n",
       "        vertical-align: middle;\n",
       "    }\n",
       "\n",
       "    .dataframe tbody tr th {\n",
       "        vertical-align: top;\n",
       "    }\n",
       "\n",
       "    .dataframe thead th {\n",
       "        text-align: right;\n",
       "    }\n",
       "</style>\n",
       "<table border=\"1\" class=\"dataframe\">\n",
       "  <thead>\n",
       "    <tr style=\"text-align: right;\">\n",
       "      <th></th>\n",
       "      <th>Sentence</th>\n",
       "      <th>Sentiment</th>\n",
       "      <th>num_char</th>\n",
       "    </tr>\n",
       "  </thead>\n",
       "  <tbody>\n",
       "    <tr>\n",
       "      <th>0</th>\n",
       "      <td>এই গানটো কোনে লিখিছিল নো?</td>\n",
       "      <td>1</td>\n",
       "      <td>25</td>\n",
       "    </tr>\n",
       "    <tr>\n",
       "      <th>1</th>\n",
       "      <td>মাকচুদু</td>\n",
       "      <td>0</td>\n",
       "      <td>7</td>\n",
       "    </tr>\n",
       "    <tr>\n",
       "      <th>2</th>\n",
       "      <td>বৰ্তমান সময়ত এনেকুৱা মধুৰ গীত শুনিবলৈ পোৱা বহু...</td>\n",
       "      <td>1</td>\n",
       "      <td>53</td>\n",
       "    </tr>\n",
       "    <tr>\n",
       "      <th>3</th>\n",
       "      <td>কি গান গাবলৈ আহি ছ</td>\n",
       "      <td>0</td>\n",
       "      <td>19</td>\n",
       "    </tr>\n",
       "    <tr>\n",
       "      <th>4</th>\n",
       "      <td>গানটো গাবলৈ লাজ নাই</td>\n",
       "      <td>0</td>\n",
       "      <td>19</td>\n",
       "    </tr>\n",
       "  </tbody>\n",
       "</table>\n",
       "</div>"
      ],
      "text/plain": [
       "                                            Sentence  Sentiment  num_char\n",
       "0                          এই গানটো কোনে লিখিছিল নো?          1        25\n",
       "1                                            মাকচুদু          0         7\n",
       "2  বৰ্তমান সময়ত এনেকুৱা মধুৰ গীত শুনিবলৈ পোৱা বহু...          1        53\n",
       "3                                 কি গান গাবলৈ আহি ছ          0        19\n",
       "4                                গানটো গাবলৈ লাজ নাই          0        19"
      ]
     },
     "execution_count": 11,
     "metadata": {},
     "output_type": "execute_result"
    }
   ],
   "source": [
    "df.head()"
   ]
  },
  {
   "cell_type": "markdown",
   "id": "5c99b90a",
   "metadata": {},
   "source": [
    "## Number of words in each sentence"
   ]
  },
  {
   "cell_type": "code",
   "execution_count": 12,
   "id": "337743c5",
   "metadata": {},
   "outputs": [],
   "source": [
    "df['num_words']=df['Sentence'].apply(lambda x:len(nltk.word_tokenize(x)))"
   ]
  },
  {
   "cell_type": "code",
   "execution_count": 13,
   "id": "964ccd23",
   "metadata": {},
   "outputs": [
    {
     "data": {
      "text/html": [
       "<div>\n",
       "<style scoped>\n",
       "    .dataframe tbody tr th:only-of-type {\n",
       "        vertical-align: middle;\n",
       "    }\n",
       "\n",
       "    .dataframe tbody tr th {\n",
       "        vertical-align: top;\n",
       "    }\n",
       "\n",
       "    .dataframe thead th {\n",
       "        text-align: right;\n",
       "    }\n",
       "</style>\n",
       "<table border=\"1\" class=\"dataframe\">\n",
       "  <thead>\n",
       "    <tr style=\"text-align: right;\">\n",
       "      <th></th>\n",
       "      <th>Sentence</th>\n",
       "      <th>Sentiment</th>\n",
       "      <th>num_char</th>\n",
       "      <th>num_words</th>\n",
       "    </tr>\n",
       "  </thead>\n",
       "  <tbody>\n",
       "    <tr>\n",
       "      <th>0</th>\n",
       "      <td>এই গানটো কোনে লিখিছিল নো?</td>\n",
       "      <td>1</td>\n",
       "      <td>25</td>\n",
       "      <td>6</td>\n",
       "    </tr>\n",
       "    <tr>\n",
       "      <th>1</th>\n",
       "      <td>মাকচুদু</td>\n",
       "      <td>0</td>\n",
       "      <td>7</td>\n",
       "      <td>1</td>\n",
       "    </tr>\n",
       "    <tr>\n",
       "      <th>2</th>\n",
       "      <td>বৰ্তমান সময়ত এনেকুৱা মধুৰ গীত শুনিবলৈ পোৱা বহু...</td>\n",
       "      <td>1</td>\n",
       "      <td>53</td>\n",
       "      <td>9</td>\n",
       "    </tr>\n",
       "    <tr>\n",
       "      <th>3</th>\n",
       "      <td>কি গান গাবলৈ আহি ছ</td>\n",
       "      <td>0</td>\n",
       "      <td>19</td>\n",
       "      <td>5</td>\n",
       "    </tr>\n",
       "    <tr>\n",
       "      <th>4</th>\n",
       "      <td>গানটো গাবলৈ লাজ নাই</td>\n",
       "      <td>0</td>\n",
       "      <td>19</td>\n",
       "      <td>4</td>\n",
       "    </tr>\n",
       "  </tbody>\n",
       "</table>\n",
       "</div>"
      ],
      "text/plain": [
       "                                            Sentence  Sentiment  num_char  \\\n",
       "0                          এই গানটো কোনে লিখিছিল নো?          1        25   \n",
       "1                                            মাকচুদু          0         7   \n",
       "2  বৰ্তমান সময়ত এনেকুৱা মধুৰ গীত শুনিবলৈ পোৱা বহু...          1        53   \n",
       "3                                 কি গান গাবলৈ আহি ছ          0        19   \n",
       "4                                গানটো গাবলৈ লাজ নাই          0        19   \n",
       "\n",
       "   num_words  \n",
       "0          6  \n",
       "1          1  \n",
       "2          9  \n",
       "3          5  \n",
       "4          4  "
      ]
     },
     "execution_count": 13,
     "metadata": {},
     "output_type": "execute_result"
    }
   ],
   "source": [
    "df.head()"
   ]
  },
  {
   "cell_type": "code",
   "execution_count": 14,
   "id": "59805b35",
   "metadata": {},
   "outputs": [
    {
     "data": {
      "text/html": [
       "<div>\n",
       "<style scoped>\n",
       "    .dataframe tbody tr th:only-of-type {\n",
       "        vertical-align: middle;\n",
       "    }\n",
       "\n",
       "    .dataframe tbody tr th {\n",
       "        vertical-align: top;\n",
       "    }\n",
       "\n",
       "    .dataframe thead th {\n",
       "        text-align: right;\n",
       "    }\n",
       "</style>\n",
       "<table border=\"1\" class=\"dataframe\">\n",
       "  <thead>\n",
       "    <tr style=\"text-align: right;\">\n",
       "      <th></th>\n",
       "      <th>num_char</th>\n",
       "      <th>num_words</th>\n",
       "    </tr>\n",
       "  </thead>\n",
       "  <tbody>\n",
       "    <tr>\n",
       "      <th>count</th>\n",
       "      <td>1016.000000</td>\n",
       "      <td>1016.000000</td>\n",
       "    </tr>\n",
       "    <tr>\n",
       "      <th>mean</th>\n",
       "      <td>32.819882</td>\n",
       "      <td>6.348425</td>\n",
       "    </tr>\n",
       "    <tr>\n",
       "      <th>std</th>\n",
       "      <td>22.159343</td>\n",
       "      <td>4.245503</td>\n",
       "    </tr>\n",
       "    <tr>\n",
       "      <th>min</th>\n",
       "      <td>3.000000</td>\n",
       "      <td>1.000000</td>\n",
       "    </tr>\n",
       "    <tr>\n",
       "      <th>25%</th>\n",
       "      <td>17.000000</td>\n",
       "      <td>3.000000</td>\n",
       "    </tr>\n",
       "    <tr>\n",
       "      <th>50%</th>\n",
       "      <td>28.000000</td>\n",
       "      <td>5.000000</td>\n",
       "    </tr>\n",
       "    <tr>\n",
       "      <th>75%</th>\n",
       "      <td>43.000000</td>\n",
       "      <td>8.000000</td>\n",
       "    </tr>\n",
       "    <tr>\n",
       "      <th>max</th>\n",
       "      <td>168.000000</td>\n",
       "      <td>34.000000</td>\n",
       "    </tr>\n",
       "  </tbody>\n",
       "</table>\n",
       "</div>"
      ],
      "text/plain": [
       "          num_char    num_words\n",
       "count  1016.000000  1016.000000\n",
       "mean     32.819882     6.348425\n",
       "std      22.159343     4.245503\n",
       "min       3.000000     1.000000\n",
       "25%      17.000000     3.000000\n",
       "50%      28.000000     5.000000\n",
       "75%      43.000000     8.000000\n",
       "max     168.000000    34.000000"
      ]
     },
     "execution_count": 14,
     "metadata": {},
     "output_type": "execute_result"
    }
   ],
   "source": [
    "df[['num_char','num_words']].describe()"
   ]
  },
  {
   "cell_type": "code",
   "execution_count": 15,
   "id": "dfe126b1",
   "metadata": {},
   "outputs": [
    {
     "data": {
      "text/html": [
       "<div>\n",
       "<style scoped>\n",
       "    .dataframe tbody tr th:only-of-type {\n",
       "        vertical-align: middle;\n",
       "    }\n",
       "\n",
       "    .dataframe tbody tr th {\n",
       "        vertical-align: top;\n",
       "    }\n",
       "\n",
       "    .dataframe thead th {\n",
       "        text-align: right;\n",
       "    }\n",
       "</style>\n",
       "<table border=\"1\" class=\"dataframe\">\n",
       "  <thead>\n",
       "    <tr style=\"text-align: right;\">\n",
       "      <th></th>\n",
       "      <th>num_char</th>\n",
       "      <th>num_words</th>\n",
       "    </tr>\n",
       "  </thead>\n",
       "  <tbody>\n",
       "    <tr>\n",
       "      <th>count</th>\n",
       "      <td>497.000000</td>\n",
       "      <td>497.000000</td>\n",
       "    </tr>\n",
       "    <tr>\n",
       "      <th>mean</th>\n",
       "      <td>36.597586</td>\n",
       "      <td>7.024145</td>\n",
       "    </tr>\n",
       "    <tr>\n",
       "      <th>std</th>\n",
       "      <td>24.077308</td>\n",
       "      <td>4.611895</td>\n",
       "    </tr>\n",
       "    <tr>\n",
       "      <th>min</th>\n",
       "      <td>3.000000</td>\n",
       "      <td>1.000000</td>\n",
       "    </tr>\n",
       "    <tr>\n",
       "      <th>25%</th>\n",
       "      <td>19.000000</td>\n",
       "      <td>4.000000</td>\n",
       "    </tr>\n",
       "    <tr>\n",
       "      <th>50%</th>\n",
       "      <td>31.000000</td>\n",
       "      <td>6.000000</td>\n",
       "    </tr>\n",
       "    <tr>\n",
       "      <th>75%</th>\n",
       "      <td>47.000000</td>\n",
       "      <td>9.000000</td>\n",
       "    </tr>\n",
       "    <tr>\n",
       "      <th>max</th>\n",
       "      <td>168.000000</td>\n",
       "      <td>34.000000</td>\n",
       "    </tr>\n",
       "  </tbody>\n",
       "</table>\n",
       "</div>"
      ],
      "text/plain": [
       "         num_char   num_words\n",
       "count  497.000000  497.000000\n",
       "mean    36.597586    7.024145\n",
       "std     24.077308    4.611895\n",
       "min      3.000000    1.000000\n",
       "25%     19.000000    4.000000\n",
       "50%     31.000000    6.000000\n",
       "75%     47.000000    9.000000\n",
       "max    168.000000   34.000000"
      ]
     },
     "execution_count": 15,
     "metadata": {},
     "output_type": "execute_result"
    }
   ],
   "source": [
    "#positive sentiment\n",
    "df[df['Sentiment']==1][['num_char','num_words']].describe()"
   ]
  },
  {
   "cell_type": "code",
   "execution_count": 16,
   "id": "ee0989f5",
   "metadata": {},
   "outputs": [
    {
     "data": {
      "text/html": [
       "<div>\n",
       "<style scoped>\n",
       "    .dataframe tbody tr th:only-of-type {\n",
       "        vertical-align: middle;\n",
       "    }\n",
       "\n",
       "    .dataframe tbody tr th {\n",
       "        vertical-align: top;\n",
       "    }\n",
       "\n",
       "    .dataframe thead th {\n",
       "        text-align: right;\n",
       "    }\n",
       "</style>\n",
       "<table border=\"1\" class=\"dataframe\">\n",
       "  <thead>\n",
       "    <tr style=\"text-align: right;\">\n",
       "      <th></th>\n",
       "      <th>num_char</th>\n",
       "      <th>num_words</th>\n",
       "    </tr>\n",
       "  </thead>\n",
       "  <tbody>\n",
       "    <tr>\n",
       "      <th>count</th>\n",
       "      <td>519.000000</td>\n",
       "      <td>519.000000</td>\n",
       "    </tr>\n",
       "    <tr>\n",
       "      <th>mean</th>\n",
       "      <td>29.202312</td>\n",
       "      <td>5.701349</td>\n",
       "    </tr>\n",
       "    <tr>\n",
       "      <th>std</th>\n",
       "      <td>19.500409</td>\n",
       "      <td>3.754202</td>\n",
       "    </tr>\n",
       "    <tr>\n",
       "      <th>min</th>\n",
       "      <td>3.000000</td>\n",
       "      <td>1.000000</td>\n",
       "    </tr>\n",
       "    <tr>\n",
       "      <th>25%</th>\n",
       "      <td>15.000000</td>\n",
       "      <td>3.000000</td>\n",
       "    </tr>\n",
       "    <tr>\n",
       "      <th>50%</th>\n",
       "      <td>25.000000</td>\n",
       "      <td>5.000000</td>\n",
       "    </tr>\n",
       "    <tr>\n",
       "      <th>75%</th>\n",
       "      <td>38.000000</td>\n",
       "      <td>7.000000</td>\n",
       "    </tr>\n",
       "    <tr>\n",
       "      <th>max</th>\n",
       "      <td>143.000000</td>\n",
       "      <td>28.000000</td>\n",
       "    </tr>\n",
       "  </tbody>\n",
       "</table>\n",
       "</div>"
      ],
      "text/plain": [
       "         num_char   num_words\n",
       "count  519.000000  519.000000\n",
       "mean    29.202312    5.701349\n",
       "std     19.500409    3.754202\n",
       "min      3.000000    1.000000\n",
       "25%     15.000000    3.000000\n",
       "50%     25.000000    5.000000\n",
       "75%     38.000000    7.000000\n",
       "max    143.000000   28.000000"
      ]
     },
     "execution_count": 16,
     "metadata": {},
     "output_type": "execute_result"
    }
   ],
   "source": [
    "#negative sentiment\n",
    "df[df['Sentiment']==0][['num_char','num_words']].describe()"
   ]
  },
  {
   "cell_type": "markdown",
   "id": "3a4d7476",
   "metadata": {},
   "source": [
    "## Data cleaning"
   ]
  },
  {
   "cell_type": "code",
   "execution_count": 17,
   "id": "f4415b19",
   "metadata": {},
   "outputs": [],
   "source": [
    "def transform_text(text):\n",
    "    #tokenizing\n",
    "    text=nltk.word_tokenize(text)\n",
    "    stop=['অতএব', 'অথচ', 'অথবা', 'অধঃ', 'অন্ততঃ', 'অৰ্থাৎ', 'অৰ্থে', 'আও', 'আঃ', 'আচ্ছা', 'আপাততঃ', 'আয়ৈ', 'আৰু',\n",
    "      'আস্', 'আহা', 'আহাহা', 'ইতস্ততঃ', 'ইতি', 'ইত্যাদি', 'ইস্', 'ইহ', 'উঃ', 'উৱা', 'উস্', 'এতেকে', 'এথোন',\n",
    "      'ঐ', 'ওঁ', 'ওৰফে', 'ঔচ্', 'কি', 'কিম্বা', 'কিন্তু', 'কিয়নো', 'কেলেই', 'চোন', 'ছাৰি', 'ছিকৌ', 'ছেই',\n",
    "      'ঠাহ্', 'ঢেঁট্', 'তত', 'ততক', 'ততেক', 'তেতেক', 'ততেক', 'তত্ৰাচ', 'তথা', 'তথৈবচ', 'তাতে', 'তেও',\n",
    "      'তো', 'তৌৱা', 'দেই', 'দেহি', 'দ্বাৰা', 'ধৰি', 'ধিক্', 'নতুবা', 'নি', 'নো', 'নৌ', 'পৰা', 'পৰ্যন্ত',\n",
    "      'বৰঞ্চ', 'বহিঃ', 'বাবে', 'বাৰু', 'বাহ্', 'বাহিৰে', 'বিনে', 'বে', 'মতে', 'যথা', 'যদি', 'যদ্যপি', 'যে',\n",
    "      'যেনিবা', 'যেনে', 'যোগে', 'লৈ', 'সত্ত্বে', 'সমন্ধি', 'সম্প্ৰতি', 'সহ', 'সু', 'সেইদেখি', 'সৈতে', 'স্বতঃ', 'হঞে', 'হতুৱা', 'হন্তে',\n",
    "      'হবলা', 'হয়', 'হা', 'হুঁ', 'হুই', 'হে', 'হেই', 'হেঃ', 'হেতুকে', 'হেনে', 'হেনো', 'হেৰ', 'হেৰি', 'হৈ', 'হোঁ', 'ইঃ', 'ইচ্',\n",
    "      'চুহ্', 'চুঃ', 'আঁ']\n",
    "    punc=\"!\\\"#$%&'()*+,-./:;<=>?@[\\]^_`{|}~।\"\n",
    "    puncword=[]\n",
    "    #removing stopwords and punctuations\n",
    "    for i in punc:\n",
    "         puncword.append(i)\n",
    "    y=[]\n",
    "    for i in text:\n",
    "        if i not in stop and i not in punc:\n",
    "            y.append(i)\n",
    "    text=y[:]\n",
    "    y.clear()\n",
    "    for i in text:\n",
    "        i=''.join(j for j in i if not j in puncword)\n",
    "        y.append(i)\n",
    "    return \" \".join(y)"
   ]
  },
  {
   "cell_type": "code",
   "execution_count": 18,
   "id": "bbb3e8e0",
   "metadata": {},
   "outputs": [
    {
     "data": {
      "text/plain": [
       "'এই গানটোৱে আপোনাক অকলশৰীয়া থাকিব বিচাৰে আৰ '"
      ]
     },
     "execution_count": 18,
     "metadata": {},
     "output_type": "execute_result"
    }
   ],
   "source": [
    "transform_text('এই গানটোৱে আপোনাক অকলশৰীয়া হৈ থাকিব বিচাৰে আৰ...')"
   ]
  },
  {
   "cell_type": "code",
   "execution_count": 19,
   "id": "e3b94390",
   "metadata": {},
   "outputs": [],
   "source": [
    "df['cleaned_sentence']=df['Sentence'].apply(transform_text)"
   ]
  },
  {
   "cell_type": "code",
   "execution_count": 20,
   "id": "20452fd0",
   "metadata": {},
   "outputs": [
    {
     "data": {
      "text/html": [
       "<div>\n",
       "<style scoped>\n",
       "    .dataframe tbody tr th:only-of-type {\n",
       "        vertical-align: middle;\n",
       "    }\n",
       "\n",
       "    .dataframe tbody tr th {\n",
       "        vertical-align: top;\n",
       "    }\n",
       "\n",
       "    .dataframe thead th {\n",
       "        text-align: right;\n",
       "    }\n",
       "</style>\n",
       "<table border=\"1\" class=\"dataframe\">\n",
       "  <thead>\n",
       "    <tr style=\"text-align: right;\">\n",
       "      <th></th>\n",
       "      <th>Sentence</th>\n",
       "      <th>Sentiment</th>\n",
       "      <th>num_char</th>\n",
       "      <th>num_words</th>\n",
       "      <th>cleaned_sentence</th>\n",
       "    </tr>\n",
       "  </thead>\n",
       "  <tbody>\n",
       "    <tr>\n",
       "      <th>462</th>\n",
       "      <td>বাল গান</td>\n",
       "      <td>0</td>\n",
       "      <td>7</td>\n",
       "      <td>2</td>\n",
       "      <td>বাল গান</td>\n",
       "    </tr>\n",
       "    <tr>\n",
       "      <th>959</th>\n",
       "      <td>বোইনাকচুদা</td>\n",
       "      <td>0</td>\n",
       "      <td>10</td>\n",
       "      <td>1</td>\n",
       "      <td>বোইনাকচুদা</td>\n",
       "    </tr>\n",
       "    <tr>\n",
       "      <th>274</th>\n",
       "      <td>মই তোমাৰ গান শুনাতকৈ কাউৰীৰ মাত টো পছন্দ কৰিম</td>\n",
       "      <td>0</td>\n",
       "      <td>45</td>\n",
       "      <td>9</td>\n",
       "      <td>মই তোমাৰ গান শুনাতকৈ কাউৰীৰ মাত টো পছন্দ কৰিম</td>\n",
       "    </tr>\n",
       "    <tr>\n",
       "      <th>504</th>\n",
       "      <td>কিংবদন্তী</td>\n",
       "      <td>1</td>\n",
       "      <td>9</td>\n",
       "      <td>1</td>\n",
       "      <td>কিংবদন্তী</td>\n",
       "    </tr>\n",
       "    <tr>\n",
       "      <th>678</th>\n",
       "      <td>সৰুতে মূৰত দূখ পাইছিলা নেকি বাৰু</td>\n",
       "      <td>0</td>\n",
       "      <td>33</td>\n",
       "      <td>6</td>\n",
       "      <td>সৰুতে মূৰত দূখ পাইছিলা নেকি</td>\n",
       "    </tr>\n",
       "    <tr>\n",
       "      <th>284</th>\n",
       "      <td>আজিও শুনি আছে</td>\n",
       "      <td>1</td>\n",
       "      <td>13</td>\n",
       "      <td>3</td>\n",
       "      <td>আজিও শুনি আছে</td>\n",
       "    </tr>\n",
       "    <tr>\n",
       "      <th>245</th>\n",
       "      <td>মন'লৈ গভীৰ প্ৰশান্তি অনা এটি গীত ।নিজ'কে হেৰুৱ...</td>\n",
       "      <td>1</td>\n",
       "      <td>112</td>\n",
       "      <td>26</td>\n",
       "      <td>মন গভীৰ প্ৰশান্তি অনা এটি গীত নিজ কে হেৰুৱাই গ...</td>\n",
       "    </tr>\n",
       "    <tr>\n",
       "      <th>381</th>\n",
       "      <td>গৰু চোৰ</td>\n",
       "      <td>0</td>\n",
       "      <td>7</td>\n",
       "      <td>2</td>\n",
       "      <td>গৰু চোৰ</td>\n",
       "    </tr>\n",
       "    <tr>\n",
       "      <th>256</th>\n",
       "      <td>মক্কেল</td>\n",
       "      <td>0</td>\n",
       "      <td>6</td>\n",
       "      <td>1</td>\n",
       "      <td>মক্কেল</td>\n",
       "    </tr>\n",
       "    <tr>\n",
       "      <th>42</th>\n",
       "      <td>সঁচাকৈ অদ্ভূত আৰু মোহনীয় গান</td>\n",
       "      <td>1</td>\n",
       "      <td>29</td>\n",
       "      <td>5</td>\n",
       "      <td>সঁচাকৈ অদ্ভূত মোহনীয় গান</td>\n",
       "    </tr>\n",
       "  </tbody>\n",
       "</table>\n",
       "</div>"
      ],
      "text/plain": [
       "                                              Sentence  Sentiment  num_char  \\\n",
       "462                                            বাল গান          0         7   \n",
       "959                                         বোইনাকচুদা          0        10   \n",
       "274      মই তোমাৰ গান শুনাতকৈ কাউৰীৰ মাত টো পছন্দ কৰিম          0        45   \n",
       "504                                          কিংবদন্তী          1         9   \n",
       "678                  সৰুতে মূৰত দূখ পাইছিলা নেকি বাৰু           0        33   \n",
       "284                                      আজিও শুনি আছে          1        13   \n",
       "245  মন'লৈ গভীৰ প্ৰশান্তি অনা এটি গীত ।নিজ'কে হেৰুৱ...          1       112   \n",
       "381                                            গৰু চোৰ          0         7   \n",
       "256                                             মক্কেল          0         6   \n",
       "42                       সঁচাকৈ অদ্ভূত আৰু মোহনীয় গান          1        29   \n",
       "\n",
       "     num_words                                   cleaned_sentence  \n",
       "462          2                                            বাল গান  \n",
       "959          1                                         বোইনাকচুদা  \n",
       "274          9      মই তোমাৰ গান শুনাতকৈ কাউৰীৰ মাত টো পছন্দ কৰিম  \n",
       "504          1                                          কিংবদন্তী  \n",
       "678          6                        সৰুতে মূৰত দূখ পাইছিলা নেকি  \n",
       "284          3                                      আজিও শুনি আছে  \n",
       "245         26  মন গভীৰ প্ৰশান্তি অনা এটি গীত নিজ কে হেৰুৱাই গ...  \n",
       "381          2                                            গৰু চোৰ  \n",
       "256          1                                             মক্কেল  \n",
       "42           5                          সঁচাকৈ অদ্ভূত মোহনীয় গান  "
      ]
     },
     "execution_count": 20,
     "metadata": {},
     "output_type": "execute_result"
    }
   ],
   "source": [
    "df.sample(10)"
   ]
  },
  {
   "cell_type": "code",
   "execution_count": 44,
   "id": "71ee0e36",
   "metadata": {},
   "outputs": [
    {
     "data": {
      "text/plain": [
       "(1016,)"
      ]
     },
     "execution_count": 44,
     "metadata": {},
     "output_type": "execute_result"
    }
   ],
   "source": [
    "df['cleaned_sentence'].shape"
   ]
  },
  {
   "cell_type": "markdown",
   "id": "b7774af1",
   "metadata": {},
   "source": [
    "## Most frequent words in positive and negative sentences"
   ]
  },
  {
   "cell_type": "code",
   "execution_count": 31,
   "id": "94d7c42d",
   "metadata": {},
   "outputs": [],
   "source": [
    "positive_corpus=[]\n",
    "for snt in df[df['Sentiment']==1]['cleaned_sentence'].tolist():\n",
    "    for word in snt.split():\n",
    "        positive_corpus.append(word)\n",
    "        "
   ]
  },
  {
   "cell_type": "code",
   "execution_count": 33,
   "id": "82430e49",
   "metadata": {},
   "outputs": [
    {
     "data": {
      "text/plain": [
       "3193"
      ]
     },
     "execution_count": 33,
     "metadata": {},
     "output_type": "execute_result"
    }
   ],
   "source": [
    "len(positive_corpus)"
   ]
  },
  {
   "cell_type": "code",
   "execution_count": 34,
   "id": "5658a8d0",
   "metadata": {},
   "outputs": [],
   "source": [
    "from collections import Counter"
   ]
  },
  {
   "cell_type": "code",
   "execution_count": 35,
   "id": "c6355338",
   "metadata": {},
   "outputs": [
    {
     "data": {
      "text/plain": [
       "[('এই', 77),\n",
       " ('ভাল', 74),\n",
       " ('গান', 73),\n",
       " ('গীত', 57),\n",
       " ('মই', 56),\n",
       " ('গানটো', 49),\n",
       " ('শুনি', 45),\n",
       " ('বহুত', 40),\n",
       " ('বিহু', 39),\n",
       " ('সুন্দৰ', 35),\n",
       " ('মোৰ', 31),\n",
       " ('ইমান', 28),\n",
       " ('এটা', 27),\n",
       " ('মন', 25),\n",
       " ('লাগিল', 22),\n",
       " ('নাই', 21),\n",
       " ('কৰি', 19),\n",
       " ('এনেকুৱা', 18),\n",
       " ('অসমীয়া', 18),\n",
       " ('এইটো', 18),\n",
       " ('পাওঁ', 18),\n",
       " ('লাগে', 17),\n",
       " ('এটি', 16),\n",
       " ('আপোনাৰ', 15),\n",
       " ('মজা', 14),\n",
       " ('এক', 14),\n",
       " ('অনুভৱ', 13),\n",
       " ('শুনিলে', 13),\n",
       " ('পুৰণি', 12),\n",
       " ('গানটোৰ', 12)]"
      ]
     },
     "execution_count": 35,
     "metadata": {},
     "output_type": "execute_result"
    }
   ],
   "source": [
    "Counter(positive_corpus).most_common(30)"
   ]
  },
  {
   "cell_type": "code",
   "execution_count": 38,
   "id": "a65428ce",
   "metadata": {},
   "outputs": [
    {
     "data": {
      "text/plain": [
       "[('গান', 91),\n",
       " ('এই', 51),\n",
       " ('নাই', 48),\n",
       " ('মই', 39),\n",
       " ('গানটো', 29),\n",
       " ('এইটো', 29),\n",
       " ('কৰি', 29),\n",
       " ('বেয়া', 27),\n",
       " ('এটা', 24),\n",
       " ('ভাল', 24),\n",
       " ('মোৰ', 24),\n",
       " ('কৰা', 22),\n",
       " ('শুনি', 21),\n",
       " ('আপোনাৰ', 21),\n",
       " ('নেকি', 19),\n",
       " ('আপুনি', 19),\n",
       " ('হৈছে', 18),\n",
       " ('গীত', 17),\n",
       " ('কৰক', 16),\n",
       " ('কেলা', 16),\n",
       " ('পাগল', 16),\n",
       " ('ইমান', 14),\n",
       " ('আছে', 14),\n",
       " ('হ', 13),\n",
       " ('কৰিব', 13),\n",
       " ('পিছত', 13),\n",
       " ('অসমীয়া', 13),\n",
       " ('টো', 12),\n",
       " ('কাম', 12),\n",
       " ('ভিডিঅ', 11)]"
      ]
     },
     "execution_count": 38,
     "metadata": {},
     "output_type": "execute_result"
    }
   ],
   "source": [
    "negative_corpus=[]\n",
    "for snt in df[df['Sentiment']==0]['cleaned_sentence'].tolist():\n",
    "    for word in snt.split():\n",
    "        negative_corpus.append(word)\n",
    "Counter(negative_corpus).most_common(30)"
   ]
  },
  {
   "cell_type": "code",
   "execution_count": 39,
   "id": "36784557",
   "metadata": {},
   "outputs": [
    {
     "data": {
      "text/plain": [
       "2754"
      ]
     },
     "execution_count": 39,
     "metadata": {},
     "output_type": "execute_result"
    }
   ],
   "source": [
    "len(negative_corpus)"
   ]
  },
  {
   "cell_type": "markdown",
   "id": "328889ef",
   "metadata": {},
   "source": [
    "## Feature extraction"
   ]
  },
  {
   "cell_type": "code",
   "execution_count": 96,
   "id": "a0f09a19",
   "metadata": {},
   "outputs": [],
   "source": [
    "from sklearn.feature_extraction.text import CountVectorizer\n",
    "from sklearn.feature_extraction.text import TfidfVectorizer"
   ]
  },
  {
   "cell_type": "code",
   "execution_count": 401,
   "id": "14e5ab36",
   "metadata": {},
   "outputs": [],
   "source": [
    "cv=CountVectorizer(max_features=550)\n",
    "tfidf=TfidfVectorizer(max_features=500)"
   ]
  },
  {
   "cell_type": "code",
   "execution_count": 402,
   "id": "cb49c852",
   "metadata": {},
   "outputs": [],
   "source": [
    "X = tfidf.fit_transform(df['cleaned_sentence']).toarray()"
   ]
  },
  {
   "cell_type": "code",
   "execution_count": 403,
   "id": "b5a9e1e8",
   "metadata": {},
   "outputs": [
    {
     "data": {
      "text/plain": [
       "(1016, 500)"
      ]
     },
     "execution_count": 403,
     "metadata": {},
     "output_type": "execute_result"
    }
   ],
   "source": [
    "X.shape"
   ]
  },
  {
   "cell_type": "code",
   "execution_count": 405,
   "id": "4fe1d622",
   "metadata": {},
   "outputs": [],
   "source": [
    "Y=df['Sentiment'].values"
   ]
  },
  {
   "cell_type": "code",
   "execution_count": 406,
   "id": "87ac4ac6",
   "metadata": {},
   "outputs": [
    {
     "data": {
      "text/plain": [
       "(1016,)"
      ]
     },
     "execution_count": 406,
     "metadata": {},
     "output_type": "execute_result"
    }
   ],
   "source": [
    "Y.shape"
   ]
  },
  {
   "cell_type": "markdown",
   "id": "77e062e3",
   "metadata": {},
   "source": [
    "## Train test split"
   ]
  },
  {
   "cell_type": "code",
   "execution_count": 407,
   "id": "c12517ba",
   "metadata": {},
   "outputs": [],
   "source": [
    "from sklearn.model_selection import train_test_split"
   ]
  },
  {
   "cell_type": "code",
   "execution_count": 408,
   "id": "3091e37e",
   "metadata": {},
   "outputs": [],
   "source": [
    "X_train, X_test, Y_train, Y_test = train_test_split(X,Y,test_size=0.2,random_state=2)"
   ]
  },
  {
   "cell_type": "code",
   "execution_count": 425,
   "id": "396f3592",
   "metadata": {},
   "outputs": [
    {
     "name": "stdout",
     "output_type": "stream",
     "text": [
      "(812, 500) (204, 500)\n",
      "(812,) (204,)\n"
     ]
    }
   ],
   "source": [
    "print(X_train.shape,X_test.shape)\n",
    "print(Y_train.shape,Y_test.shape)"
   ]
  },
  {
   "cell_type": "code",
   "execution_count": 419,
   "id": "e59254f1",
   "metadata": {},
   "outputs": [],
   "source": [
    "from sklearn.metrics import accuracy_score,confusion_matrix,precision_score"
   ]
  },
  {
   "cell_type": "markdown",
   "id": "24a07c4a",
   "metadata": {},
   "source": [
    "## Training our model with different classifying algorithms"
   ]
  },
  {
   "cell_type": "code",
   "execution_count": 410,
   "id": "e8c3a91a",
   "metadata": {},
   "outputs": [],
   "source": [
    "from sklearn.linear_model import LogisticRegression\n",
    "from sklearn.svm import SVC\n",
    "from sklearn.naive_bayes import MultinomialNB\n",
    "from sklearn.tree import DecisionTreeClassifier\n",
    "from sklearn.neighbors import KNeighborsClassifier\n",
    "from sklearn.ensemble import RandomForestClassifier\n",
    "from sklearn.ensemble import AdaBoostClassifier\n",
    "from sklearn.ensemble import BaggingClassifier\n",
    "from sklearn.ensemble import ExtraTreesClassifier\n",
    "from sklearn.ensemble import GradientBoostingClassifier\n",
    "\n"
   ]
  },
  {
   "cell_type": "code",
   "execution_count": 411,
   "id": "a4352e21",
   "metadata": {},
   "outputs": [],
   "source": [
    "svc=SVC(kernel=\"sigmoid\",gamma=1.0)\n",
    "knc=KNeighborsClassifier()\n",
    "mnb=MultinomialNB()\n",
    "dtc=DecisionTreeClassifier(max_depth=5)\n",
    "lrc=LogisticRegression()\n",
    "rfc=RandomForestClassifier()\n",
    "abc=AdaBoostClassifier()\n",
    "bc=BaggingClassifier()\n",
    "etc=ExtraTreesClassifier()\n",
    "gbdt=GradientBoostingClassifier()"
   ]
  },
  {
   "cell_type": "code",
   "execution_count": 412,
   "id": "61e8cd24",
   "metadata": {},
   "outputs": [],
   "source": [
    "clfs={\n",
    "    'SVC':svc,\n",
    "    'KN':knc,\n",
    "    'NB':mnb,\n",
    "    'DT':dtc,\n",
    "    'LR':lrc,\n",
    "    'RF':rfc,\n",
    "    'AB':abc,\n",
    "    'BC':bc,\n",
    "    'ETC':etc,\n",
    "    'GBDT':gbdt\n",
    "}"
   ]
  },
  {
   "cell_type": "code",
   "execution_count": 413,
   "id": "abbe7cf6",
   "metadata": {},
   "outputs": [],
   "source": [
    "def train_classifier(clf,X_train,Y_train,X_test,Y_test):\n",
    "    clf.fit(X_train,Y_train)\n",
    "    Y_pred=clf.predict(X_test)\n",
    "    accuracy=accuracy_score(Y_test,Y_pred)\n",
    "    precision=precision_score(Y_test,Y_pred)\n",
    "    return accuracy,precision"
   ]
  },
  {
   "cell_type": "code",
   "execution_count": 438,
   "id": "882a831e",
   "metadata": {},
   "outputs": [
    {
     "name": "stdout",
     "output_type": "stream",
     "text": [
      "For SVC\n",
      "Accuracy-  0.75\n",
      "Precision-  0.7009345794392523\n",
      "For KN\n",
      "Accuracy-  0.6764705882352942\n",
      "Precision-  0.6891891891891891\n",
      "For NB\n",
      "Accuracy-  0.7450980392156863\n",
      "Precision-  0.6875\n",
      "For DT\n",
      "Accuracy-  0.5931372549019608\n",
      "Precision-  0.9230769230769231\n",
      "For LR\n",
      "Accuracy-  0.7647058823529411\n",
      "Precision-  0.7169811320754716\n",
      "For RF\n",
      "Accuracy-  0.7892156862745098\n",
      "Precision-  0.7684210526315789\n",
      "For AB\n",
      "Accuracy-  0.7058823529411765\n",
      "Precision-  0.6931818181818182\n",
      "For BC\n",
      "Accuracy-  0.75\n",
      "Precision-  0.7590361445783133\n",
      "For ETC\n",
      "Accuracy-  0.7990196078431373\n",
      "Precision-  0.7676767676767676\n",
      "For GBDT\n",
      "Accuracy-  0.7401960784313726\n",
      "Precision-  0.7530864197530864\n"
     ]
    }
   ],
   "source": [
    "accuracy_scores=[]\n",
    "precision_scores=[]\n",
    "for name,clf in clfs.items():\n",
    "    current_accuracy,current_precision=train_classifier(clf,X_train,Y_train,X_test,Y_test)\n",
    "    print(\"For\",name)\n",
    "    print(\"Accuracy- \", current_accuracy)\n",
    "    print(\"Precision- \",current_precision)"
   ]
  },
  {
   "cell_type": "code",
   "execution_count": 434,
   "id": "e3cbfbc5",
   "metadata": {},
   "outputs": [
    {
     "name": "stdout",
     "output_type": "stream",
     "text": [
      "0.803921568627451\n",
      "[[88 22]\n",
      " [18 76]]\n",
      "0.7755102040816326\n"
     ]
    }
   ],
   "source": [
    "#best accuracy by extra trees classifier (80% approx)\n",
    "etc.fit(X_train,Y_train)\n",
    "Y_pred2=etc.predict(X_test)\n",
    "print(accuracy_score(Y_test,Y_pred2))\n",
    "print(confusion_matrix(Y_test,Y_pred2))\n",
    "print(precision_score(Y_test,Y_pred2))"
   ]
  },
  {
   "cell_type": "markdown",
   "id": "24e469f7",
   "metadata": {},
   "source": [
    "## Confusion matrix"
   ]
  },
  {
   "cell_type": "code",
   "execution_count": 423,
   "id": "abb95009",
   "metadata": {},
   "outputs": [
    {
     "data": {
      "text/plain": [
       "<AxesSubplot:>"
      ]
     },
     "execution_count": 423,
     "metadata": {},
     "output_type": "execute_result"
    },
    {
     "data": {
      "image/png": "[encoded data removed]",
      "text/plain": [
       "<Figure size 432x288 with 2 Axes>"
      ]
     },
     "metadata": {
      "needs_background": "light"
     },
     "output_type": "display_data"
    }
   ],
   "source": [
    "sns.heatmap(confusion_matrix(Y_test,Y_pred2), annot=True)"
   ]
  },
  {
   "cell_type": "markdown",
   "id": "8a707d4c",
   "metadata": {},
   "source": [
    "## Exporting the model and vectorizer"
   ]
  },
  {
   "cell_type": "code",
   "execution_count": 426,
   "id": "d41bbee4",
   "metadata": {},
   "outputs": [],
   "source": [
    "import pickle"
   ]
  },
  {
   "cell_type": "code",
   "execution_count": 427,
   "id": "1ae3c8de",
   "metadata": {},
   "outputs": [],
   "source": [
    "pickle.dump(tfidf,open('vectorizer.pkl','wb'))\n",
    "pickle.dump(etc,open('model.pkl','wb'))"
   ]
  },
  {
   "cell_type": "code",
   "execution_count": null,
   "id": "bd2104a0",
   "metadata": {},
   "outputs": [],
   "source": []
  }
 ],
 "metadata": {
  "kernelspec": {
   "display_name": "Python 3",
   "language": "python",
   "name": "python3"
  },
  "language_info": {
   "codemirror_mode": {
    "name": "ipython",
    "version": 3
   },
   "file_extension": ".py",
   "mimetype": "text/x-python",
   "name": "python",
   "nbconvert_exporter": "python",
   "pygments_lexer": "ipython3",
   "version": "3.8.8"
  }
 },
 "nbformat": 4,
 "nbformat_minor": 5
}
