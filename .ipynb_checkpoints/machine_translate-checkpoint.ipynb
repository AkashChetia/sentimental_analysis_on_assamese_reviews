{
 "cells": [
  {
   "cell_type": "code",
   "execution_count": 212,
   "id": "3edb64c3",
   "metadata": {},
   "outputs": [],
   "source": [
    "import pandas as pd\n",
    "import numpy as np\n",
    "import matplotlib.pyplot as plt\n",
    "import seaborn as sns\n",
    "import nltk\n",
    "import string\n",
    "from nltk.corpus import stopwords\n",
    "from nltk.stem import PorterStemmer"
   ]
  },
  {
   "cell_type": "markdown",
   "id": "94ece5ed",
   "metadata": {},
   "source": [
    "## Loading the data"
   ]
  },
  {
   "cell_type": "code",
   "execution_count": 213,
   "id": "36bb3404",
   "metadata": {},
   "outputs": [
    {
     "data": {
      "text/html": [
       "<div>\n",
       "<style scoped>\n",
       "    .dataframe tbody tr th:only-of-type {\n",
       "        vertical-align: middle;\n",
       "    }\n",
       "\n",
       "    .dataframe tbody tr th {\n",
       "        vertical-align: top;\n",
       "    }\n",
       "\n",
       "    .dataframe thead th {\n",
       "        text-align: right;\n",
       "    }\n",
       "</style>\n",
       "<table border=\"1\" class=\"dataframe\">\n",
       "  <thead>\n",
       "    <tr style=\"text-align: right;\">\n",
       "      <th></th>\n",
       "      <th>Sentence</th>\n",
       "      <th>Sentiment</th>\n",
       "      <th>Translated</th>\n",
       "    </tr>\n",
       "  </thead>\n",
       "  <tbody>\n",
       "    <tr>\n",
       "      <th>51</th>\n",
       "      <td>ফফৰা  লোকৰ গানেৰে জনপ্ৰিয়তা গোটালে কি হ'ব,সচাঁ...</td>\n",
       "      <td>0</td>\n",
       "      <td>What happens if the fan's songs bring populari...</td>\n",
       "    </tr>\n",
       "    <tr>\n",
       "      <th>176</th>\n",
       "      <td>লৰা ছোৱালীক কব পাৰিম। আমি জুবিন দাৰ গান শুনি ড...</td>\n",
       "      <td>1</td>\n",
       "      <td>I can tell the children. We grew up listening ...</td>\n",
       "    </tr>\n",
       "    <tr>\n",
       "      <th>37</th>\n",
       "      <td>মই এতিয়া বধিৰ আৰু বোবা।</td>\n",
       "      <td>0</td>\n",
       "      <td>I'm deaf and dumb now.</td>\n",
       "    </tr>\n",
       "    <tr>\n",
       "      <th>514</th>\n",
       "      <td>গানটি শুনিলে প্ৰকৃতিৰ মাজত বিলীন হৈ পৰো য'ত থা...</td>\n",
       "      <td>1</td>\n",
       "      <td>Listening to the song dissolves in nature whic...</td>\n",
       "    </tr>\n",
       "    <tr>\n",
       "      <th>480</th>\n",
       "      <td>এনেকে গান গাই গাই আনৰ মাথা গৰম কৰিছে কিয়।</td>\n",
       "      <td>0</td>\n",
       "      <td>Why is it that others' heads are warmed by sin...</td>\n",
       "    </tr>\n",
       "    <tr>\n",
       "      <th>434</th>\n",
       "      <td>নাজানিছিলো যে অসমী গানবোৰ এইটো ভাল আছিল</td>\n",
       "      <td>1</td>\n",
       "      <td>Didn't know that Assamese songs were good.</td>\n",
       "    </tr>\n",
       "    <tr>\n",
       "      <th>989</th>\n",
       "      <td>ন শব্দৰ বাংময়তাৰ মাজত জোনাকৰ কিৰিলী,আখৰৰ নিঁভ...</td>\n",
       "      <td>1</td>\n",
       "      <td>In the midst of the nine-word bangamya, Jonak'...</td>\n",
       "    </tr>\n",
       "    <tr>\n",
       "      <th>973</th>\n",
       "      <td>অসমীয়া কৃষ্টিৰ পথাৰত পুৰণি গীত-মাতসমূহৰ এক সুক...</td>\n",
       "      <td>1</td>\n",
       "      <td>There is a distinct intoxicating of old songs ...</td>\n",
       "    </tr>\n",
       "    <tr>\n",
       "      <th>548</th>\n",
       "      <td>এইটো ৰাস্তাৰ কাষত শৌচ কৰা হয়</td>\n",
       "      <td>0</td>\n",
       "      <td>It is defecated on the side of the road</td>\n",
       "    </tr>\n",
       "    <tr>\n",
       "      <th>776</th>\n",
       "      <td>আপুনি এজন মানসিক ৰোগী</td>\n",
       "      <td>0</td>\n",
       "      <td>You are a mental lying patient</td>\n",
       "    </tr>\n",
       "  </tbody>\n",
       "</table>\n",
       "</div>"
      ],
      "text/plain": [
       "                                              Sentence  Sentiment  \\\n",
       "51   ফফৰা  লোকৰ গানেৰে জনপ্ৰিয়তা গোটালে কি হ'ব,সচাঁ...          0   \n",
       "176  লৰা ছোৱালীক কব পাৰিম। আমি জুবিন দাৰ গান শুনি ড...          1   \n",
       "37                            মই এতিয়া বধিৰ আৰু বোবা।          0   \n",
       "514  গানটি শুনিলে প্ৰকৃতিৰ মাজত বিলীন হৈ পৰো য'ত থা...          1   \n",
       "480          এনেকে গান গাই গাই আনৰ মাথা গৰম কৰিছে কিয়।          0   \n",
       "434            নাজানিছিলো যে অসমী গানবোৰ এইটো ভাল আছিল          1   \n",
       "989  ন শব্দৰ বাংময়তাৰ মাজত জোনাকৰ কিৰিলী,আখৰৰ নিঁভ...          1   \n",
       "973  অসমীয়া কৃষ্টিৰ পথাৰত পুৰণি গীত-মাতসমূহৰ এক সুক...          1   \n",
       "548                      এইটো ৰাস্তাৰ কাষত শৌচ কৰা হয়          0   \n",
       "776                              আপুনি এজন মানসিক ৰোগী          0   \n",
       "\n",
       "                                            Translated  \n",
       "51   What happens if the fan's songs bring populari...  \n",
       "176  I can tell the children. We grew up listening ...  \n",
       "37                              I'm deaf and dumb now.  \n",
       "514  Listening to the song dissolves in nature whic...  \n",
       "480  Why is it that others' heads are warmed by sin...  \n",
       "434         Didn't know that Assamese songs were good.  \n",
       "989  In the midst of the nine-word bangamya, Jonak'...  \n",
       "973  There is a distinct intoxicating of old songs ...  \n",
       "548            It is defecated on the side of the road  \n",
       "776                     You are a mental lying patient  "
      ]
     },
     "execution_count": 213,
     "metadata": {},
     "output_type": "execute_result"
    }
   ],
   "source": [
    "df=pd.read_csv('translated.csv',encoding='utf-8')\n",
    "df.sample(10)"
   ]
  },
  {
   "cell_type": "code",
   "execution_count": 214,
   "id": "f7c355a2",
   "metadata": {},
   "outputs": [
    {
     "data": {
      "text/plain": [
       "(1028, 3)"
      ]
     },
     "execution_count": 214,
     "metadata": {},
     "output_type": "execute_result"
    }
   ],
   "source": [
    "df.shape"
   ]
  },
  {
   "cell_type": "code",
   "execution_count": 215,
   "id": "73f1f9af",
   "metadata": {},
   "outputs": [
    {
     "name": "stdout",
     "output_type": "stream",
     "text": [
      "<class 'pandas.core.frame.DataFrame'>\n",
      "RangeIndex: 1028 entries, 0 to 1027\n",
      "Data columns (total 3 columns):\n",
      " #   Column      Non-Null Count  Dtype \n",
      "---  ------      --------------  ----- \n",
      " 0   Sentence    1028 non-null   object\n",
      " 1   Sentiment   1028 non-null   int64 \n",
      " 2   Translated  1028 non-null   object\n",
      "dtypes: int64(1), object(2)\n",
      "memory usage: 24.2+ KB\n"
     ]
    }
   ],
   "source": [
    "df.info()"
   ]
  },
  {
   "cell_type": "code",
   "execution_count": 216,
   "id": "32faa4ce",
   "metadata": {},
   "outputs": [
    {
     "data": {
      "text/plain": [
       "Sentence      0\n",
       "Sentiment     0\n",
       "Translated    0\n",
       "dtype: int64"
      ]
     },
     "execution_count": 216,
     "metadata": {},
     "output_type": "execute_result"
    }
   ],
   "source": [
    "#checking missing values\n",
    "df.isnull().sum()"
   ]
  },
  {
   "cell_type": "markdown",
   "id": "efb6a778",
   "metadata": {},
   "source": [
    "## Removing duplicate values"
   ]
  },
  {
   "cell_type": "code",
   "execution_count": 177,
   "id": "14e94899",
   "metadata": {},
   "outputs": [
    {
     "data": {
      "text/plain": [
       "14"
      ]
     },
     "execution_count": 177,
     "metadata": {},
     "output_type": "execute_result"
    }
   ],
   "source": [
    "#check for duplicate values\n",
    "df.duplicated().sum()"
   ]
  },
  {
   "cell_type": "code",
   "execution_count": 178,
   "id": "9f97c9a2",
   "metadata": {},
   "outputs": [
    {
     "data": {
      "text/plain": [
       "(1005, 3)"
      ]
     },
     "execution_count": 178,
     "metadata": {},
     "output_type": "execute_result"
    }
   ],
   "source": [
    "#removing duplicates\n",
    "df.drop_duplicates(subset =\"Translated\",\n",
    "                     keep ='first', inplace = True)\n",
    "df.shape"
   ]
  },
  {
   "cell_type": "markdown",
   "id": "463a5e58",
   "metadata": {},
   "source": [
    "# EDA\n",
    "## Distribution of positive and negative sentences"
   ]
  },
  {
   "cell_type": "code",
   "execution_count": 179,
   "id": "9482d4ec",
   "metadata": {},
   "outputs": [
    {
     "data": {
      "text/plain": [
       "0    513\n",
       "1    492\n",
       "Name: Sentiment, dtype: int64"
      ]
     },
     "execution_count": 179,
     "metadata": {},
     "output_type": "execute_result"
    }
   ],
   "source": [
    "df['Sentiment'].value_counts()"
   ]
  },
  {
   "cell_type": "code",
   "execution_count": 180,
   "id": "56dca57d",
   "metadata": {},
   "outputs": [
    {
     "data": {
      "image/png": "[encoded data removed]",
      "text/plain": [
       "<Figure size 432x288 with 1 Axes>"
      ]
     },
     "metadata": {},
     "output_type": "display_data"
    }
   ],
   "source": [
    "plt.pie(df['Sentiment'].value_counts(),labels=['Negative','Positive'],colors=['red','lime'],autopct=\"%0.2f\")\n",
    "plt.show()"
   ]
  },
  {
   "cell_type": "markdown",
   "id": "16e94eac",
   "metadata": {},
   "source": [
    "## Number of characters in each sentence"
   ]
  },
  {
   "cell_type": "code",
   "execution_count": 181,
   "id": "733acde7",
   "metadata": {},
   "outputs": [],
   "source": [
    "df['num_char']=df['Translated'].apply(len)"
   ]
  },
  {
   "cell_type": "code",
   "execution_count": 182,
   "id": "4af6e186",
   "metadata": {},
   "outputs": [
    {
     "data": {
      "text/html": [
       "<div>\n",
       "<style scoped>\n",
       "    .dataframe tbody tr th:only-of-type {\n",
       "        vertical-align: middle;\n",
       "    }\n",
       "\n",
       "    .dataframe tbody tr th {\n",
       "        vertical-align: top;\n",
       "    }\n",
       "\n",
       "    .dataframe thead th {\n",
       "        text-align: right;\n",
       "    }\n",
       "</style>\n",
       "<table border=\"1\" class=\"dataframe\">\n",
       "  <thead>\n",
       "    <tr style=\"text-align: right;\">\n",
       "      <th></th>\n",
       "      <th>Sentence</th>\n",
       "      <th>Sentiment</th>\n",
       "      <th>Translated</th>\n",
       "      <th>num_char</th>\n",
       "    </tr>\n",
       "  </thead>\n",
       "  <tbody>\n",
       "    <tr>\n",
       "      <th>0</th>\n",
       "      <td>এই গানটো কোনে লিখিছিল নো?</td>\n",
       "      <td>1</td>\n",
       "      <td>Who wrote this song no?</td>\n",
       "      <td>23</td>\n",
       "    </tr>\n",
       "    <tr>\n",
       "      <th>1</th>\n",
       "      <td>মাকচুদু</td>\n",
       "      <td>0</td>\n",
       "      <td>makchudu</td>\n",
       "      <td>8</td>\n",
       "    </tr>\n",
       "    <tr>\n",
       "      <th>2</th>\n",
       "      <td>বৰ্তমান সময়ত এনেকুৱা মধুৰ গীত শুনিবলৈ পোৱা বহু...</td>\n",
       "      <td>1</td>\n",
       "      <td>It is very difficult to hear such sweet songs ...</td>\n",
       "      <td>52</td>\n",
       "    </tr>\n",
       "    <tr>\n",
       "      <th>3</th>\n",
       "      <td>কি গান গাবলৈ আহি ছ</td>\n",
       "      <td>0</td>\n",
       "      <td>What songs to sing</td>\n",
       "      <td>18</td>\n",
       "    </tr>\n",
       "    <tr>\n",
       "      <th>4</th>\n",
       "      <td>গানটো গাবলৈ লাজ নাই</td>\n",
       "      <td>0</td>\n",
       "      <td>No shame in singing the song</td>\n",
       "      <td>28</td>\n",
       "    </tr>\n",
       "  </tbody>\n",
       "</table>\n",
       "</div>"
      ],
      "text/plain": [
       "                                            Sentence  Sentiment  \\\n",
       "0                          এই গানটো কোনে লিখিছিল নো?          1   \n",
       "1                                            মাকচুদু          0   \n",
       "2  বৰ্তমান সময়ত এনেকুৱা মধুৰ গীত শুনিবলৈ পোৱা বহু...          1   \n",
       "3                                 কি গান গাবলৈ আহি ছ          0   \n",
       "4                                গানটো গাবলৈ লাজ নাই          0   \n",
       "\n",
       "                                          Translated  num_char  \n",
       "0                            Who wrote this song no?        23  \n",
       "1                                           makchudu         8  \n",
       "2  It is very difficult to hear such sweet songs ...        52  \n",
       "3                                 What songs to sing        18  \n",
       "4                       No shame in singing the song        28  "
      ]
     },
     "execution_count": 182,
     "metadata": {},
     "output_type": "execute_result"
    }
   ],
   "source": [
    "df.head()"
   ]
  },
  {
   "cell_type": "markdown",
   "id": "250908d9",
   "metadata": {},
   "source": [
    "## Number of words in each sentence"
   ]
  },
  {
   "cell_type": "code",
   "execution_count": 183,
   "id": "f4fede38",
   "metadata": {},
   "outputs": [
    {
     "data": {
      "text/html": [
       "<div>\n",
       "<style scoped>\n",
       "    .dataframe tbody tr th:only-of-type {\n",
       "        vertical-align: middle;\n",
       "    }\n",
       "\n",
       "    .dataframe tbody tr th {\n",
       "        vertical-align: top;\n",
       "    }\n",
       "\n",
       "    .dataframe thead th {\n",
       "        text-align: right;\n",
       "    }\n",
       "</style>\n",
       "<table border=\"1\" class=\"dataframe\">\n",
       "  <thead>\n",
       "    <tr style=\"text-align: right;\">\n",
       "      <th></th>\n",
       "      <th>Sentence</th>\n",
       "      <th>Sentiment</th>\n",
       "      <th>Translated</th>\n",
       "      <th>num_char</th>\n",
       "      <th>num_words</th>\n",
       "    </tr>\n",
       "  </thead>\n",
       "  <tbody>\n",
       "    <tr>\n",
       "      <th>0</th>\n",
       "      <td>এই গানটো কোনে লিখিছিল নো?</td>\n",
       "      <td>1</td>\n",
       "      <td>Who wrote this song no?</td>\n",
       "      <td>23</td>\n",
       "      <td>6</td>\n",
       "    </tr>\n",
       "    <tr>\n",
       "      <th>1</th>\n",
       "      <td>মাকচুদু</td>\n",
       "      <td>0</td>\n",
       "      <td>makchudu</td>\n",
       "      <td>8</td>\n",
       "      <td>1</td>\n",
       "    </tr>\n",
       "    <tr>\n",
       "      <th>2</th>\n",
       "      <td>বৰ্তমান সময়ত এনেকুৱা মধুৰ গীত শুনিবলৈ পোৱা বহু...</td>\n",
       "      <td>1</td>\n",
       "      <td>It is very difficult to hear such sweet songs ...</td>\n",
       "      <td>52</td>\n",
       "      <td>11</td>\n",
       "    </tr>\n",
       "    <tr>\n",
       "      <th>3</th>\n",
       "      <td>কি গান গাবলৈ আহি ছ</td>\n",
       "      <td>0</td>\n",
       "      <td>What songs to sing</td>\n",
       "      <td>18</td>\n",
       "      <td>4</td>\n",
       "    </tr>\n",
       "    <tr>\n",
       "      <th>4</th>\n",
       "      <td>গানটো গাবলৈ লাজ নাই</td>\n",
       "      <td>0</td>\n",
       "      <td>No shame in singing the song</td>\n",
       "      <td>28</td>\n",
       "      <td>6</td>\n",
       "    </tr>\n",
       "  </tbody>\n",
       "</table>\n",
       "</div>"
      ],
      "text/plain": [
       "                                            Sentence  Sentiment  \\\n",
       "0                          এই গানটো কোনে লিখিছিল নো?          1   \n",
       "1                                            মাকচুদু          0   \n",
       "2  বৰ্তমান সময়ত এনেকুৱা মধুৰ গীত শুনিবলৈ পোৱা বহু...          1   \n",
       "3                                 কি গান গাবলৈ আহি ছ          0   \n",
       "4                                গানটো গাবলৈ লাজ নাই          0   \n",
       "\n",
       "                                          Translated  num_char  num_words  \n",
       "0                            Who wrote this song no?        23          6  \n",
       "1                                           makchudu         8          1  \n",
       "2  It is very difficult to hear such sweet songs ...        52         11  \n",
       "3                                 What songs to sing        18          4  \n",
       "4                       No shame in singing the song        28          6  "
      ]
     },
     "execution_count": 183,
     "metadata": {},
     "output_type": "execute_result"
    }
   ],
   "source": [
    "df['num_words']=df['Translated'].apply(lambda x:len(nltk.word_tokenize(x)))\n",
    "df.head()"
   ]
  },
  {
   "cell_type": "code",
   "execution_count": 184,
   "id": "c07f75d4",
   "metadata": {},
   "outputs": [
    {
     "data": {
      "text/html": [
       "<div>\n",
       "<style scoped>\n",
       "    .dataframe tbody tr th:only-of-type {\n",
       "        vertical-align: middle;\n",
       "    }\n",
       "\n",
       "    .dataframe tbody tr th {\n",
       "        vertical-align: top;\n",
       "    }\n",
       "\n",
       "    .dataframe thead th {\n",
       "        text-align: right;\n",
       "    }\n",
       "</style>\n",
       "<table border=\"1\" class=\"dataframe\">\n",
       "  <thead>\n",
       "    <tr style=\"text-align: right;\">\n",
       "      <th></th>\n",
       "      <th>num_char</th>\n",
       "      <th>num_words</th>\n",
       "    </tr>\n",
       "  </thead>\n",
       "  <tbody>\n",
       "    <tr>\n",
       "      <th>count</th>\n",
       "      <td>1005.000000</td>\n",
       "      <td>1005.000000</td>\n",
       "    </tr>\n",
       "    <tr>\n",
       "      <th>mean</th>\n",
       "      <td>36.753234</td>\n",
       "      <td>7.806965</td>\n",
       "    </tr>\n",
       "    <tr>\n",
       "      <th>std</th>\n",
       "      <td>25.297489</td>\n",
       "      <td>5.415831</td>\n",
       "    </tr>\n",
       "    <tr>\n",
       "      <th>min</th>\n",
       "      <td>3.000000</td>\n",
       "      <td>1.000000</td>\n",
       "    </tr>\n",
       "    <tr>\n",
       "      <th>25%</th>\n",
       "      <td>20.000000</td>\n",
       "      <td>4.000000</td>\n",
       "    </tr>\n",
       "    <tr>\n",
       "      <th>50%</th>\n",
       "      <td>31.000000</td>\n",
       "      <td>7.000000</td>\n",
       "    </tr>\n",
       "    <tr>\n",
       "      <th>75%</th>\n",
       "      <td>48.000000</td>\n",
       "      <td>10.000000</td>\n",
       "    </tr>\n",
       "    <tr>\n",
       "      <th>max</th>\n",
       "      <td>201.000000</td>\n",
       "      <td>43.000000</td>\n",
       "    </tr>\n",
       "  </tbody>\n",
       "</table>\n",
       "</div>"
      ],
      "text/plain": [
       "          num_char    num_words\n",
       "count  1005.000000  1005.000000\n",
       "mean     36.753234     7.806965\n",
       "std      25.297489     5.415831\n",
       "min       3.000000     1.000000\n",
       "25%      20.000000     4.000000\n",
       "50%      31.000000     7.000000\n",
       "75%      48.000000    10.000000\n",
       "max     201.000000    43.000000"
      ]
     },
     "execution_count": 184,
     "metadata": {},
     "output_type": "execute_result"
    }
   ],
   "source": [
    "df[['num_char','num_words']].describe()"
   ]
  },
  {
   "cell_type": "code",
   "execution_count": 185,
   "id": "a457bd74",
   "metadata": {},
   "outputs": [
    {
     "data": {
      "text/html": [
       "<div>\n",
       "<style scoped>\n",
       "    .dataframe tbody tr th:only-of-type {\n",
       "        vertical-align: middle;\n",
       "    }\n",
       "\n",
       "    .dataframe tbody tr th {\n",
       "        vertical-align: top;\n",
       "    }\n",
       "\n",
       "    .dataframe thead th {\n",
       "        text-align: right;\n",
       "    }\n",
       "</style>\n",
       "<table border=\"1\" class=\"dataframe\">\n",
       "  <thead>\n",
       "    <tr style=\"text-align: right;\">\n",
       "      <th></th>\n",
       "      <th>num_char</th>\n",
       "      <th>num_words</th>\n",
       "    </tr>\n",
       "  </thead>\n",
       "  <tbody>\n",
       "    <tr>\n",
       "      <th>count</th>\n",
       "      <td>492.000000</td>\n",
       "      <td>492.000000</td>\n",
       "    </tr>\n",
       "    <tr>\n",
       "      <th>mean</th>\n",
       "      <td>41.634146</td>\n",
       "      <td>8.796748</td>\n",
       "    </tr>\n",
       "    <tr>\n",
       "      <th>std</th>\n",
       "      <td>28.002478</td>\n",
       "      <td>5.926514</td>\n",
       "    </tr>\n",
       "    <tr>\n",
       "      <th>min</th>\n",
       "      <td>3.000000</td>\n",
       "      <td>1.000000</td>\n",
       "    </tr>\n",
       "    <tr>\n",
       "      <th>25%</th>\n",
       "      <td>22.000000</td>\n",
       "      <td>4.000000</td>\n",
       "    </tr>\n",
       "    <tr>\n",
       "      <th>50%</th>\n",
       "      <td>35.000000</td>\n",
       "      <td>8.000000</td>\n",
       "    </tr>\n",
       "    <tr>\n",
       "      <th>75%</th>\n",
       "      <td>54.000000</td>\n",
       "      <td>12.000000</td>\n",
       "    </tr>\n",
       "    <tr>\n",
       "      <th>max</th>\n",
       "      <td>201.000000</td>\n",
       "      <td>43.000000</td>\n",
       "    </tr>\n",
       "  </tbody>\n",
       "</table>\n",
       "</div>"
      ],
      "text/plain": [
       "         num_char   num_words\n",
       "count  492.000000  492.000000\n",
       "mean    41.634146    8.796748\n",
       "std     28.002478    5.926514\n",
       "min      3.000000    1.000000\n",
       "25%     22.000000    4.000000\n",
       "50%     35.000000    8.000000\n",
       "75%     54.000000   12.000000\n",
       "max    201.000000   43.000000"
      ]
     },
     "execution_count": 185,
     "metadata": {},
     "output_type": "execute_result"
    }
   ],
   "source": [
    "#positive sentiment\n",
    "df[df['Sentiment']==1][['num_char','num_words']].describe()"
   ]
  },
  {
   "cell_type": "code",
   "execution_count": 186,
   "id": "8c0b56ef",
   "metadata": {},
   "outputs": [
    {
     "data": {
      "text/html": [
       "<div>\n",
       "<style scoped>\n",
       "    .dataframe tbody tr th:only-of-type {\n",
       "        vertical-align: middle;\n",
       "    }\n",
       "\n",
       "    .dataframe tbody tr th {\n",
       "        vertical-align: top;\n",
       "    }\n",
       "\n",
       "    .dataframe thead th {\n",
       "        text-align: right;\n",
       "    }\n",
       "</style>\n",
       "<table border=\"1\" class=\"dataframe\">\n",
       "  <thead>\n",
       "    <tr style=\"text-align: right;\">\n",
       "      <th></th>\n",
       "      <th>num_char</th>\n",
       "      <th>num_words</th>\n",
       "    </tr>\n",
       "  </thead>\n",
       "  <tbody>\n",
       "    <tr>\n",
       "      <th>count</th>\n",
       "      <td>513.000000</td>\n",
       "      <td>513.000000</td>\n",
       "    </tr>\n",
       "    <tr>\n",
       "      <th>mean</th>\n",
       "      <td>32.072125</td>\n",
       "      <td>6.857700</td>\n",
       "    </tr>\n",
       "    <tr>\n",
       "      <th>std</th>\n",
       "      <td>21.403322</td>\n",
       "      <td>4.689294</td>\n",
       "    </tr>\n",
       "    <tr>\n",
       "      <th>min</th>\n",
       "      <td>3.000000</td>\n",
       "      <td>1.000000</td>\n",
       "    </tr>\n",
       "    <tr>\n",
       "      <th>25%</th>\n",
       "      <td>16.000000</td>\n",
       "      <td>3.000000</td>\n",
       "    </tr>\n",
       "    <tr>\n",
       "      <th>50%</th>\n",
       "      <td>28.000000</td>\n",
       "      <td>6.000000</td>\n",
       "    </tr>\n",
       "    <tr>\n",
       "      <th>75%</th>\n",
       "      <td>43.000000</td>\n",
       "      <td>9.000000</td>\n",
       "    </tr>\n",
       "    <tr>\n",
       "      <th>max</th>\n",
       "      <td>149.000000</td>\n",
       "      <td>33.000000</td>\n",
       "    </tr>\n",
       "  </tbody>\n",
       "</table>\n",
       "</div>"
      ],
      "text/plain": [
       "         num_char   num_words\n",
       "count  513.000000  513.000000\n",
       "mean    32.072125    6.857700\n",
       "std     21.403322    4.689294\n",
       "min      3.000000    1.000000\n",
       "25%     16.000000    3.000000\n",
       "50%     28.000000    6.000000\n",
       "75%     43.000000    9.000000\n",
       "max    149.000000   33.000000"
      ]
     },
     "execution_count": 186,
     "metadata": {},
     "output_type": "execute_result"
    }
   ],
   "source": [
    "#negative sentiment\n",
    "df[df['Sentiment']==0][['num_char','num_words']].describe()"
   ]
  },
  {
   "cell_type": "markdown",
   "id": "c2298e7c",
   "metadata": {},
   "source": [
    "## Data cleaning"
   ]
  },
  {
   "cell_type": "code",
   "execution_count": 187,
   "id": "419eb1f7",
   "metadata": {},
   "outputs": [],
   "source": [
    "ps = PorterStemmer()"
   ]
  },
  {
   "cell_type": "code",
   "execution_count": 217,
   "id": "acfdf14a",
   "metadata": {},
   "outputs": [],
   "source": [
    "def transform_t(text):\n",
    "    #making the text lowercase\n",
    "    text = text.lower()\n",
    "    #tokenizing\n",
    "    text = nltk.word_tokenize(text)\n",
    "    \n",
    "    y = []\n",
    "    #keeping the alphanumeric characters only\n",
    "    for i in text:\n",
    "        if i.isalnum():\n",
    "            y.append(i)\n",
    "    \n",
    "    text = y[:]\n",
    "    y.clear()\n",
    "    #Removing stopwords and punctuations\n",
    "    for i in text:\n",
    "        if i not in stopwords.words('english') and i not in string.punctuation:\n",
    "            y.append(i)\n",
    "            \n",
    "    text = y[:]\n",
    "    y.clear()\n",
    "    #stemming\n",
    "    for i in text:\n",
    "        y.append(ps.stem(i))\n",
    "    \n",
    "            \n",
    "    return \" \".join(y)"
   ]
  },
  {
   "cell_type": "code",
   "execution_count": 189,
   "id": "dedd6804",
   "metadata": {},
   "outputs": [
    {
     "data": {
      "text/plain": [
       "'difficult hear sweet song'"
      ]
     },
     "execution_count": 189,
     "metadata": {},
     "output_type": "execute_result"
    }
   ],
   "source": [
    "transform_t(\"It is very difficult to hear such sweet songs ...\")"
   ]
  },
  {
   "cell_type": "code",
   "execution_count": 190,
   "id": "ff611a51",
   "metadata": {},
   "outputs": [
    {
     "data": {
      "text/html": [
       "<div>\n",
       "<style scoped>\n",
       "    .dataframe tbody tr th:only-of-type {\n",
       "        vertical-align: middle;\n",
       "    }\n",
       "\n",
       "    .dataframe tbody tr th {\n",
       "        vertical-align: top;\n",
       "    }\n",
       "\n",
       "    .dataframe thead th {\n",
       "        text-align: right;\n",
       "    }\n",
       "</style>\n",
       "<table border=\"1\" class=\"dataframe\">\n",
       "  <thead>\n",
       "    <tr style=\"text-align: right;\">\n",
       "      <th></th>\n",
       "      <th>Sentence</th>\n",
       "      <th>Sentiment</th>\n",
       "      <th>Translated</th>\n",
       "      <th>num_char</th>\n",
       "      <th>num_words</th>\n",
       "      <th>Transformed</th>\n",
       "    </tr>\n",
       "  </thead>\n",
       "  <tbody>\n",
       "    <tr>\n",
       "      <th>506</th>\n",
       "      <td>বেয়া সময়বোৰ ত এনেকুৱা গান লাগে</td>\n",
       "      <td>1</td>\n",
       "      <td>Bad times take such songs</td>\n",
       "      <td>25</td>\n",
       "      <td>5</td>\n",
       "      <td>bad time take song</td>\n",
       "    </tr>\n",
       "    <tr>\n",
       "      <th>211</th>\n",
       "      <td>মোৰ কবলৈ ভাষা নাই..</td>\n",
       "      <td>1</td>\n",
       "      <td>I don't have the language to say.</td>\n",
       "      <td>33</td>\n",
       "      <td>9</td>\n",
       "      <td>languag say</td>\n",
       "    </tr>\n",
       "    <tr>\n",
       "      <th>832</th>\n",
       "      <td>এইবোৰ গান হ'ল নে বাৰু ধুই</td>\n",
       "      <td>0</td>\n",
       "      <td>Are these songs or baru dhui</td>\n",
       "      <td>28</td>\n",
       "      <td>6</td>\n",
       "      <td>song baru dhui</td>\n",
       "    </tr>\n",
       "    <tr>\n",
       "      <th>359</th>\n",
       "      <td>এই গানটো শুনি মোৰ বৃক্কৰ হৃদযন্ত্ৰৰ আক্ৰমণ হৈছিল</td>\n",
       "      <td>0</td>\n",
       "      <td>I had a kidney heart attack when I heard this ...</td>\n",
       "      <td>51</td>\n",
       "      <td>12</td>\n",
       "      <td>kidney heart attack heard song</td>\n",
       "    </tr>\n",
       "    <tr>\n",
       "      <th>162</th>\n",
       "      <td>চিৰ যুগমীয়া গীত</td>\n",
       "      <td>1</td>\n",
       "      <td>Everlasting Songs</td>\n",
       "      <td>17</td>\n",
       "      <td>2</td>\n",
       "      <td>everlast song</td>\n",
       "    </tr>\n",
       "    <tr>\n",
       "      <th>316</th>\n",
       "      <td>তই নালাগে গাব</td>\n",
       "      <td>0</td>\n",
       "      <td>That's not what i need to sing</td>\n",
       "      <td>30</td>\n",
       "      <td>8</td>\n",
       "      <td>need sing</td>\n",
       "    </tr>\n",
       "    <tr>\n",
       "      <th>742</th>\n",
       "      <td>সচাকৈয়ে গৌৰৱ বোধ কৰিছো</td>\n",
       "      <td>1</td>\n",
       "      <td>I am very proud.</td>\n",
       "      <td>16</td>\n",
       "      <td>5</td>\n",
       "      <td>proud</td>\n",
       "    </tr>\n",
       "    <tr>\n",
       "      <th>965</th>\n",
       "      <td>ফালি দিচা দাদা</td>\n",
       "      <td>1</td>\n",
       "      <td>Fali Disa Dada</td>\n",
       "      <td>14</td>\n",
       "      <td>3</td>\n",
       "      <td>fali disa dada</td>\n",
       "    </tr>\n",
       "    <tr>\n",
       "      <th>320</th>\n",
       "      <td>এইটো পাগল , ই অসমখন শেষ কৰিব আহিল</td>\n",
       "      <td>0</td>\n",
       "      <td>It's crazy, it's come to end Assam.</td>\n",
       "      <td>36</td>\n",
       "      <td>11</td>\n",
       "      <td>crazi come end assam</td>\n",
       "    </tr>\n",
       "    <tr>\n",
       "      <th>567</th>\n",
       "      <td>পোৰা নমুনা</td>\n",
       "      <td>0</td>\n",
       "      <td>Burnt Sample</td>\n",
       "      <td>12</td>\n",
       "      <td>2</td>\n",
       "      <td>burnt sampl</td>\n",
       "    </tr>\n",
       "  </tbody>\n",
       "</table>\n",
       "</div>"
      ],
      "text/plain": [
       "                                             Sentence  Sentiment  \\\n",
       "506                  বেয়া সময়বোৰ ত এনেকুৱা গান লাগে          1   \n",
       "211                               মোৰ কবলৈ ভাষা নাই..          1   \n",
       "832                         এইবোৰ গান হ'ল নে বাৰু ধুই          0   \n",
       "359  এই গানটো শুনি মোৰ বৃক্কৰ হৃদযন্ত্ৰৰ আক্ৰমণ হৈছিল          0   \n",
       "162                                   চিৰ যুগমীয়া গীত          1   \n",
       "316                                     তই নালাগে গাব          0   \n",
       "742                            সচাকৈয়ে গৌৰৱ বোধ কৰিছো          1   \n",
       "965                                    ফালি দিচা দাদা          1   \n",
       "320                এইটো পাগল , ই অসমখন শেষ কৰিব আহিল           0   \n",
       "567                                        পোৰা নমুনা          0   \n",
       "\n",
       "                                            Translated  num_char  num_words  \\\n",
       "506                          Bad times take such songs        25          5   \n",
       "211                  I don't have the language to say.        33          9   \n",
       "832                       Are these songs or baru dhui        28          6   \n",
       "359  I had a kidney heart attack when I heard this ...        51         12   \n",
       "162                                  Everlasting Songs        17          2   \n",
       "316                     That's not what i need to sing        30          8   \n",
       "742                                   I am very proud.        16          5   \n",
       "965                                     Fali Disa Dada        14          3   \n",
       "320               It's crazy, it's come to end Assam.         36         11   \n",
       "567                                       Burnt Sample        12          2   \n",
       "\n",
       "                        Transformed  \n",
       "506              bad time take song  \n",
       "211                     languag say  \n",
       "832                  song baru dhui  \n",
       "359  kidney heart attack heard song  \n",
       "162                   everlast song  \n",
       "316                       need sing  \n",
       "742                           proud  \n",
       "965                  fali disa dada  \n",
       "320            crazi come end assam  \n",
       "567                     burnt sampl  "
      ]
     },
     "execution_count": 190,
     "metadata": {},
     "output_type": "execute_result"
    }
   ],
   "source": [
    "df['Transformed']=df['Translated'].apply(transform_t)\n",
    "df.sample(10)"
   ]
  },
  {
   "cell_type": "markdown",
   "id": "57ecbbc7",
   "metadata": {},
   "source": [
    "## Most frequent words in positive and negative sentences"
   ]
  },
  {
   "cell_type": "code",
   "execution_count": 191,
   "id": "a4cfb426",
   "metadata": {},
   "outputs": [],
   "source": [
    "positive_corpus=[]\n",
    "for snt in df[df['Sentiment']==1]['Transformed'].tolist():\n",
    "    for word in snt.split():\n",
    "        positive_corpus.append(word)"
   ]
  },
  {
   "cell_type": "code",
   "execution_count": 192,
   "id": "8f10f854",
   "metadata": {},
   "outputs": [],
   "source": [
    "from collections import Counter"
   ]
  },
  {
   "cell_type": "code",
   "execution_count": 193,
   "id": "0ee8b8ae",
   "metadata": {},
   "outputs": [
    {
     "data": {
      "text/plain": [
       "[('song', 264),\n",
       " ('listen', 59),\n",
       " ('beauti', 53),\n",
       " ('bihu', 53),\n",
       " ('assames', 42),\n",
       " ('hear', 29),\n",
       " ('love', 29),\n",
       " ('mind', 25),\n",
       " ('feel', 23),\n",
       " ('nice', 23),\n",
       " ('word', 23),\n",
       " ('music', 21),\n",
       " ('like', 19),\n",
       " ('time', 17),\n",
       " ('assam', 17),\n",
       " ('great', 16),\n",
       " ('heart', 16),\n",
       " ('one', 16),\n",
       " ('old', 15),\n",
       " ('fun', 15),\n",
       " ('day', 15),\n",
       " ('voic', 15),\n",
       " ('good', 15),\n",
       " ('sweet', 13),\n",
       " ('today', 13),\n",
       " ('da', 13),\n",
       " ('much', 13),\n",
       " ('make', 13),\n",
       " ('languag', 13),\n",
       " ('mani', 13)]"
      ]
     },
     "execution_count": 193,
     "metadata": {},
     "output_type": "execute_result"
    }
   ],
   "source": [
    "Counter(positive_corpus).most_common(30)"
   ]
  },
  {
   "cell_type": "code",
   "execution_count": 194,
   "id": "ca826a6d",
   "metadata": {},
   "outputs": [
    {
     "data": {
      "text/plain": [
       "[('song', 142),\n",
       " ('sing', 43),\n",
       " ('like', 28),\n",
       " ('assames', 27),\n",
       " ('listen', 23),\n",
       " ('bihu', 19),\n",
       " ('die', 18),\n",
       " ('dog', 18),\n",
       " ('video', 17),\n",
       " ('bad', 17),\n",
       " ('come', 14),\n",
       " ('watch', 13),\n",
       " ('peopl', 12),\n",
       " ('kela', 12),\n",
       " ('voic', 12),\n",
       " ('assam', 12),\n",
       " ('head', 11),\n",
       " ('side', 10),\n",
       " ('hear', 10),\n",
       " ('crazi', 10),\n",
       " ('feel', 10),\n",
       " ('make', 10),\n",
       " ('singer', 10),\n",
       " ('pleas', 9),\n",
       " ('want', 9),\n",
       " ('good', 9),\n",
       " ('work', 9),\n",
       " ('day', 9),\n",
       " ('worst', 9),\n",
       " ('even', 8)]"
      ]
     },
     "execution_count": 194,
     "metadata": {},
     "output_type": "execute_result"
    }
   ],
   "source": [
    "negative_corpus=[]\n",
    "for snt in df[df['Sentiment']==0]['Transformed'].tolist():\n",
    "    for word in snt.split():\n",
    "        negative_corpus.append(word)\n",
    "Counter(negative_corpus).most_common(30)"
   ]
  },
  {
   "cell_type": "markdown",
   "id": "214f7b05",
   "metadata": {},
   "source": [
    "## Feature extraction using Count Vectorizer"
   ]
  },
  {
   "cell_type": "code",
   "execution_count": 195,
   "id": "4b4a01e2",
   "metadata": {},
   "outputs": [],
   "source": [
    "from sklearn.feature_extraction.text import CountVectorizer"
   ]
  },
  {
   "cell_type": "code",
   "execution_count": 196,
   "id": "f2acc140",
   "metadata": {},
   "outputs": [],
   "source": [
    "cv=CountVectorizer(max_features=1000)"
   ]
  },
  {
   "cell_type": "code",
   "execution_count": 197,
   "id": "9b6388dc",
   "metadata": {},
   "outputs": [],
   "source": [
    "X = cv.fit_transform(df['Transformed']).toarray()"
   ]
  },
  {
   "cell_type": "code",
   "execution_count": 198,
   "id": "d73148e8",
   "metadata": {},
   "outputs": [
    {
     "data": {
      "text/plain": [
       "(1005, 1000)"
      ]
     },
     "execution_count": 198,
     "metadata": {},
     "output_type": "execute_result"
    }
   ],
   "source": [
    "X.shape"
   ]
  },
  {
   "cell_type": "code",
   "execution_count": 199,
   "id": "adefa8e9",
   "metadata": {},
   "outputs": [
    {
     "data": {
      "text/html": [
       "<div>\n",
       "<style scoped>\n",
       "    .dataframe tbody tr th:only-of-type {\n",
       "        vertical-align: middle;\n",
       "    }\n",
       "\n",
       "    .dataframe tbody tr th {\n",
       "        vertical-align: top;\n",
       "    }\n",
       "\n",
       "    .dataframe thead th {\n",
       "        text-align: right;\n",
       "    }\n",
       "</style>\n",
       "<table border=\"1\" class=\"dataframe\">\n",
       "  <thead>\n",
       "    <tr style=\"text-align: right;\">\n",
       "      <th></th>\n",
       "      <th>10</th>\n",
       "      <th>17</th>\n",
       "      <th>2020</th>\n",
       "      <th>50</th>\n",
       "      <th>aaji</th>\n",
       "      <th>aao</th>\n",
       "      <th>aap</th>\n",
       "      <th>abai</th>\n",
       "      <th>abl</th>\n",
       "      <th>absolut</th>\n",
       "      <th>...</th>\n",
       "      <th>ya</th>\n",
       "      <th>ye</th>\n",
       "      <th>year</th>\n",
       "      <th>yesterday</th>\n",
       "      <th>yet</th>\n",
       "      <th>yoke</th>\n",
       "      <th>young</th>\n",
       "      <th>youth</th>\n",
       "      <th>zindabad</th>\n",
       "      <th>zubin</th>\n",
       "    </tr>\n",
       "  </thead>\n",
       "  <tbody>\n",
       "    <tr>\n",
       "      <th>0</th>\n",
       "      <td>0</td>\n",
       "      <td>0</td>\n",
       "      <td>0</td>\n",
       "      <td>0</td>\n",
       "      <td>0</td>\n",
       "      <td>0</td>\n",
       "      <td>0</td>\n",
       "      <td>0</td>\n",
       "      <td>0</td>\n",
       "      <td>0</td>\n",
       "      <td>...</td>\n",
       "      <td>0</td>\n",
       "      <td>0</td>\n",
       "      <td>0</td>\n",
       "      <td>0</td>\n",
       "      <td>0</td>\n",
       "      <td>0</td>\n",
       "      <td>0</td>\n",
       "      <td>0</td>\n",
       "      <td>0</td>\n",
       "      <td>0</td>\n",
       "    </tr>\n",
       "    <tr>\n",
       "      <th>1</th>\n",
       "      <td>0</td>\n",
       "      <td>0</td>\n",
       "      <td>0</td>\n",
       "      <td>0</td>\n",
       "      <td>0</td>\n",
       "      <td>0</td>\n",
       "      <td>0</td>\n",
       "      <td>0</td>\n",
       "      <td>0</td>\n",
       "      <td>0</td>\n",
       "      <td>...</td>\n",
       "      <td>0</td>\n",
       "      <td>0</td>\n",
       "      <td>0</td>\n",
       "      <td>0</td>\n",
       "      <td>0</td>\n",
       "      <td>0</td>\n",
       "      <td>0</td>\n",
       "      <td>0</td>\n",
       "      <td>0</td>\n",
       "      <td>0</td>\n",
       "    </tr>\n",
       "    <tr>\n",
       "      <th>2</th>\n",
       "      <td>0</td>\n",
       "      <td>0</td>\n",
       "      <td>0</td>\n",
       "      <td>0</td>\n",
       "      <td>0</td>\n",
       "      <td>0</td>\n",
       "      <td>0</td>\n",
       "      <td>0</td>\n",
       "      <td>0</td>\n",
       "      <td>0</td>\n",
       "      <td>...</td>\n",
       "      <td>0</td>\n",
       "      <td>0</td>\n",
       "      <td>0</td>\n",
       "      <td>0</td>\n",
       "      <td>0</td>\n",
       "      <td>0</td>\n",
       "      <td>0</td>\n",
       "      <td>0</td>\n",
       "      <td>0</td>\n",
       "      <td>0</td>\n",
       "    </tr>\n",
       "    <tr>\n",
       "      <th>3</th>\n",
       "      <td>0</td>\n",
       "      <td>0</td>\n",
       "      <td>0</td>\n",
       "      <td>0</td>\n",
       "      <td>0</td>\n",
       "      <td>0</td>\n",
       "      <td>0</td>\n",
       "      <td>0</td>\n",
       "      <td>0</td>\n",
       "      <td>0</td>\n",
       "      <td>...</td>\n",
       "      <td>0</td>\n",
       "      <td>0</td>\n",
       "      <td>0</td>\n",
       "      <td>0</td>\n",
       "      <td>0</td>\n",
       "      <td>0</td>\n",
       "      <td>0</td>\n",
       "      <td>0</td>\n",
       "      <td>0</td>\n",
       "      <td>0</td>\n",
       "    </tr>\n",
       "    <tr>\n",
       "      <th>4</th>\n",
       "      <td>0</td>\n",
       "      <td>0</td>\n",
       "      <td>0</td>\n",
       "      <td>0</td>\n",
       "      <td>0</td>\n",
       "      <td>0</td>\n",
       "      <td>0</td>\n",
       "      <td>0</td>\n",
       "      <td>0</td>\n",
       "      <td>0</td>\n",
       "      <td>...</td>\n",
       "      <td>0</td>\n",
       "      <td>0</td>\n",
       "      <td>0</td>\n",
       "      <td>0</td>\n",
       "      <td>0</td>\n",
       "      <td>0</td>\n",
       "      <td>0</td>\n",
       "      <td>0</td>\n",
       "      <td>0</td>\n",
       "      <td>0</td>\n",
       "    </tr>\n",
       "    <tr>\n",
       "      <th>5</th>\n",
       "      <td>0</td>\n",
       "      <td>0</td>\n",
       "      <td>0</td>\n",
       "      <td>0</td>\n",
       "      <td>0</td>\n",
       "      <td>0</td>\n",
       "      <td>0</td>\n",
       "      <td>0</td>\n",
       "      <td>0</td>\n",
       "      <td>0</td>\n",
       "      <td>...</td>\n",
       "      <td>0</td>\n",
       "      <td>0</td>\n",
       "      <td>0</td>\n",
       "      <td>0</td>\n",
       "      <td>0</td>\n",
       "      <td>0</td>\n",
       "      <td>0</td>\n",
       "      <td>0</td>\n",
       "      <td>0</td>\n",
       "      <td>0</td>\n",
       "    </tr>\n",
       "    <tr>\n",
       "      <th>6</th>\n",
       "      <td>0</td>\n",
       "      <td>0</td>\n",
       "      <td>0</td>\n",
       "      <td>0</td>\n",
       "      <td>0</td>\n",
       "      <td>0</td>\n",
       "      <td>0</td>\n",
       "      <td>0</td>\n",
       "      <td>0</td>\n",
       "      <td>0</td>\n",
       "      <td>...</td>\n",
       "      <td>0</td>\n",
       "      <td>0</td>\n",
       "      <td>0</td>\n",
       "      <td>0</td>\n",
       "      <td>0</td>\n",
       "      <td>0</td>\n",
       "      <td>0</td>\n",
       "      <td>0</td>\n",
       "      <td>0</td>\n",
       "      <td>0</td>\n",
       "    </tr>\n",
       "    <tr>\n",
       "      <th>7</th>\n",
       "      <td>0</td>\n",
       "      <td>0</td>\n",
       "      <td>0</td>\n",
       "      <td>0</td>\n",
       "      <td>0</td>\n",
       "      <td>0</td>\n",
       "      <td>0</td>\n",
       "      <td>0</td>\n",
       "      <td>0</td>\n",
       "      <td>0</td>\n",
       "      <td>...</td>\n",
       "      <td>0</td>\n",
       "      <td>0</td>\n",
       "      <td>0</td>\n",
       "      <td>0</td>\n",
       "      <td>0</td>\n",
       "      <td>0</td>\n",
       "      <td>0</td>\n",
       "      <td>0</td>\n",
       "      <td>0</td>\n",
       "      <td>0</td>\n",
       "    </tr>\n",
       "    <tr>\n",
       "      <th>8</th>\n",
       "      <td>0</td>\n",
       "      <td>0</td>\n",
       "      <td>0</td>\n",
       "      <td>0</td>\n",
       "      <td>0</td>\n",
       "      <td>0</td>\n",
       "      <td>0</td>\n",
       "      <td>0</td>\n",
       "      <td>0</td>\n",
       "      <td>0</td>\n",
       "      <td>...</td>\n",
       "      <td>0</td>\n",
       "      <td>0</td>\n",
       "      <td>0</td>\n",
       "      <td>0</td>\n",
       "      <td>0</td>\n",
       "      <td>0</td>\n",
       "      <td>0</td>\n",
       "      <td>0</td>\n",
       "      <td>0</td>\n",
       "      <td>0</td>\n",
       "    </tr>\n",
       "    <tr>\n",
       "      <th>9</th>\n",
       "      <td>0</td>\n",
       "      <td>0</td>\n",
       "      <td>0</td>\n",
       "      <td>0</td>\n",
       "      <td>0</td>\n",
       "      <td>0</td>\n",
       "      <td>0</td>\n",
       "      <td>0</td>\n",
       "      <td>0</td>\n",
       "      <td>0</td>\n",
       "      <td>...</td>\n",
       "      <td>0</td>\n",
       "      <td>0</td>\n",
       "      <td>0</td>\n",
       "      <td>0</td>\n",
       "      <td>0</td>\n",
       "      <td>0</td>\n",
       "      <td>0</td>\n",
       "      <td>0</td>\n",
       "      <td>0</td>\n",
       "      <td>0</td>\n",
       "    </tr>\n",
       "  </tbody>\n",
       "</table>\n",
       "<p>10 rows × 1000 columns</p>\n",
       "</div>"
      ],
      "text/plain": [
       "   10  17  2020  50  aaji  aao  aap  abai  abl  absolut  ...  ya  ye  year  \\\n",
       "0   0   0     0   0     0    0    0     0    0        0  ...   0   0     0   \n",
       "1   0   0     0   0     0    0    0     0    0        0  ...   0   0     0   \n",
       "2   0   0     0   0     0    0    0     0    0        0  ...   0   0     0   \n",
       "3   0   0     0   0     0    0    0     0    0        0  ...   0   0     0   \n",
       "4   0   0     0   0     0    0    0     0    0        0  ...   0   0     0   \n",
       "5   0   0     0   0     0    0    0     0    0        0  ...   0   0     0   \n",
       "6   0   0     0   0     0    0    0     0    0        0  ...   0   0     0   \n",
       "7   0   0     0   0     0    0    0     0    0        0  ...   0   0     0   \n",
       "8   0   0     0   0     0    0    0     0    0        0  ...   0   0     0   \n",
       "9   0   0     0   0     0    0    0     0    0        0  ...   0   0     0   \n",
       "\n",
       "   yesterday  yet  yoke  young  youth  zindabad  zubin  \n",
       "0          0    0     0      0      0         0      0  \n",
       "1          0    0     0      0      0         0      0  \n",
       "2          0    0     0      0      0         0      0  \n",
       "3          0    0     0      0      0         0      0  \n",
       "4          0    0     0      0      0         0      0  \n",
       "5          0    0     0      0      0         0      0  \n",
       "6          0    0     0      0      0         0      0  \n",
       "7          0    0     0      0      0         0      0  \n",
       "8          0    0     0      0      0         0      0  \n",
       "9          0    0     0      0      0         0      0  \n",
       "\n",
       "[10 rows x 1000 columns]"
      ]
     },
     "execution_count": 199,
     "metadata": {},
     "output_type": "execute_result"
    }
   ],
   "source": [
    "df1 = pd.DataFrame(X, columns=cv.get_feature_names())\n",
    "df1.head(10)"
   ]
  },
  {
   "cell_type": "code",
   "execution_count": 200,
   "id": "0cee7fcb",
   "metadata": {},
   "outputs": [],
   "source": [
    "Y=df['Sentiment'].values"
   ]
  },
  {
   "cell_type": "code",
   "execution_count": 201,
   "id": "c178f13b",
   "metadata": {},
   "outputs": [
    {
     "data": {
      "text/plain": [
       "(1005,)"
      ]
     },
     "execution_count": 201,
     "metadata": {},
     "output_type": "execute_result"
    }
   ],
   "source": [
    "Y.shape"
   ]
  },
  {
   "cell_type": "markdown",
   "id": "6646595c",
   "metadata": {},
   "source": [
    "## Train test split"
   ]
  },
  {
   "cell_type": "code",
   "execution_count": 202,
   "id": "4f7bc625",
   "metadata": {},
   "outputs": [],
   "source": [
    "from sklearn.model_selection import train_test_split"
   ]
  },
  {
   "cell_type": "code",
   "execution_count": 203,
   "id": "e79799c7",
   "metadata": {},
   "outputs": [],
   "source": [
    "X_train, X_test, Y_train, Y_test = train_test_split(X,Y,test_size=0.2,random_state=2)"
   ]
  },
  {
   "cell_type": "code",
   "execution_count": 204,
   "id": "f5b468be",
   "metadata": {},
   "outputs": [
    {
     "name": "stdout",
     "output_type": "stream",
     "text": [
      "(804, 1000) (201, 1000)\n",
      "(804,) (201,)\n"
     ]
    }
   ],
   "source": [
    "print(X_train.shape,X_test.shape)\n",
    "print(Y_train.shape,Y_test.shape)"
   ]
  },
  {
   "cell_type": "code",
   "execution_count": 205,
   "id": "cf3ad2e4",
   "metadata": {},
   "outputs": [],
   "source": [
    "from sklearn.metrics import accuracy_score,confusion_matrix,precision_score"
   ]
  },
  {
   "cell_type": "markdown",
   "id": "66e199b0",
   "metadata": {},
   "source": [
    "## Training our model with different classifying algorithms"
   ]
  },
  {
   "cell_type": "code",
   "execution_count": 218,
   "id": "31707ab4",
   "metadata": {},
   "outputs": [],
   "source": [
    "from sklearn.linear_model import LogisticRegression\n",
    "from sklearn.svm import SVC\n",
    "from sklearn.naive_bayes import MultinomialNB\n",
    "from sklearn.tree import DecisionTreeClassifier\n",
    "from sklearn.neighbors import KNeighborsClassifier\n",
    "from sklearn.ensemble import RandomForestClassifier\n",
    "from sklearn.ensemble import ExtraTreesClassifier"
   ]
  },
  {
   "cell_type": "code",
   "execution_count": 207,
   "id": "31cc0f6b",
   "metadata": {},
   "outputs": [],
   "source": [
    "svc=SVC(kernel= 'linear', gamma= 0.8, C= 0.9)\n",
    "knc=KNeighborsClassifier(n_neighbors=6, weights= \"distance\",metric= \"minkowski\")\n",
    "mnb=MultinomialNB()\n",
    "dtc=DecisionTreeClassifier(criterion=\"gini\",splitter= \"best\",max_depth=150,min_samples_split=6)\n",
    "lrc=LogisticRegression(tol= 0.001,C= 2,solver= \"saga\")\n",
    "rfc=RandomForestClassifier(n_estimators=100,criterion=\"gini\",min_samples_split= 3)\n",
    "etc=ExtraTreesClassifier(n_estimators= 1000, max_features='log2', criterion='entropy')"
   ]
  },
  {
   "cell_type": "code",
   "execution_count": 208,
   "id": "18c01e25",
   "metadata": {},
   "outputs": [],
   "source": [
    "clfs={\n",
    "    'SVC':svc,\n",
    "    'KN':knc,\n",
    "    'NB':mnb,\n",
    "    'DT':dtc,\n",
    "    'LR':lrc,\n",
    "    'RF':rfc,\n",
    "    'ETC':etc\n",
    "}"
   ]
  },
  {
   "cell_type": "code",
   "execution_count": 209,
   "id": "ed31330f",
   "metadata": {},
   "outputs": [],
   "source": [
    "def train_classifier(clf,X_train,Y_train,X_test,Y_test):\n",
    "    clf.fit(X_train,Y_train)\n",
    "    Y_pred=clf.predict(X_test)\n",
    "    accuracy=accuracy_score(Y_test,Y_pred)\n",
    "    precision=precision_score(Y_test,Y_pred)\n",
    "    return accuracy,precision"
   ]
  },
  {
   "cell_type": "code",
   "execution_count": 210,
   "id": "602aea93",
   "metadata": {},
   "outputs": [
    {
     "name": "stdout",
     "output_type": "stream",
     "text": [
      "For SVC\n",
      "Accuracy-  0.835820895522388\n",
      "Precision-  0.8202247191011236\n",
      "For KN\n",
      "Accuracy-  0.7512437810945274\n",
      "Precision-  0.7272727272727273\n",
      "For NB\n",
      "Accuracy-  0.8606965174129353\n",
      "Precision-  0.81\n",
      "For DT\n",
      "Accuracy-  0.7960199004975125\n",
      "Precision-  0.7634408602150538\n",
      "For LR\n",
      "Accuracy-  0.8756218905472637\n",
      "Precision-  0.8571428571428571\n",
      "For RF\n",
      "Accuracy-  0.8159203980099502\n",
      "Precision-  0.7849462365591398\n",
      "For ETC\n",
      "Accuracy-  0.8159203980099502\n",
      "Precision-  0.7731958762886598\n"
     ]
    }
   ],
   "source": [
    "accuracy_scores=[]\n",
    "precision_scores=[]\n",
    "for name,clf in clfs.items():\n",
    "    current_accuracy,current_precision=train_classifier(clf,X_train,Y_train,X_test,Y_test)\n",
    "    print(\"For\",name)\n",
    "    print(\"Accuracy- \", current_accuracy)\n",
    "    print(\"Precision- \",current_precision)"
   ]
  },
  {
   "cell_type": "code",
   "execution_count": 219,
   "id": "aef8c11b",
   "metadata": {},
   "outputs": [
    {
     "name": "stdout",
     "output_type": "stream",
     "text": [
      "0.8756218905472637\n",
      "[[98 13]\n",
      " [12 78]]\n",
      "0.8571428571428571\n"
     ]
    }
   ],
   "source": [
    "#best accuracy by Logistic Regression (88% approx)\n",
    "lrc.fit(X_train,Y_train)\n",
    "Y_pred=lrc.predict(X_test)\n",
    "print(accuracy_score(Y_test,Y_pred))\n",
    "print(confusion_matrix(Y_test,Y_pred))\n",
    "print(precision_score(Y_test,Y_pred))"
   ]
  },
  {
   "cell_type": "markdown",
   "id": "0cd3c418",
   "metadata": {},
   "source": [
    "## Confusion matrix"
   ]
  },
  {
   "cell_type": "code",
   "execution_count": 220,
   "id": "9e0cb1a6",
   "metadata": {},
   "outputs": [
    {
     "data": {
      "text/plain": [
       "<AxesSubplot:>"
      ]
     },
     "execution_count": 220,
     "metadata": {},
     "output_type": "execute_result"
    },
    {
     "data": {
      "image/png": "[encoded data removed]",
      "text/plain": [
       "<Figure size 432x288 with 2 Axes>"
      ]
     },
     "metadata": {
      "needs_background": "light"
     },
     "output_type": "display_data"
    }
   ],
   "source": [
    "sns.heatmap(confusion_matrix(Y_test,Y_pred), annot=True)"
   ]
  },
  {
   "cell_type": "markdown",
   "id": "52cdb699",
   "metadata": {},
   "source": [
    "## Exporting the model and vectorizer"
   ]
  },
  {
   "cell_type": "code",
   "execution_count": 221,
   "id": "1b7e6dda",
   "metadata": {},
   "outputs": [],
   "source": [
    "import pickle"
   ]
  },
  {
   "cell_type": "code",
   "execution_count": 222,
   "id": "e9f2e139",
   "metadata": {},
   "outputs": [],
   "source": [
    "pickle.dump(cv,open('vectorizer_mt.pkl','wb'))\n",
    "pickle.dump(lrc,open('model_mt.pkl','wb'))"
   ]
  },
  {
   "cell_type": "code",
   "execution_count": null,
   "id": "a70ff883",
   "metadata": {},
   "outputs": [],
   "source": []
  }
 ],
 "metadata": {
  "kernelspec": {
   "display_name": "Python 3 (ipykernel)",
   "language": "python",
   "name": "python3"
  },
  "language_info": {
   "codemirror_mode": {
    "name": "ipython",
    "version": 3
   },
   "file_extension": ".py",
   "mimetype": "text/x-python",
   "name": "python",
   "nbconvert_exporter": "python",
   "pygments_lexer": "ipython3",
   "version": "3.8.8"
  }
 },
 "nbformat": 4,
 "nbformat_minor": 5
}
